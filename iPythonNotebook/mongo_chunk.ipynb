{
 "metadata": {
  "name": "",
  "signature": "sha256:c3abbb8aaa5f310eafa2005d9ef9f140bbb74d0bef407ecd145e7321003ce324"
 },
 "nbformat": 3,
 "nbformat_minor": 0,
 "worksheets": [
  {
   "cells": [
    {
     "cell_type": "code",
     "collapsed": false,
     "input": [
      "#!/usr/bin/python\n",
      " \n",
      "import argparse\n",
      "from pymongo import MongoClient as Client\n",
      "from bson import BSON\n",
      "from bson import json_util\n",
      "import json\n",
      "import os\n",
      " \n",
      "# mongo client\n",
      "client = Client()\n",
      " \n",
      "# script arguments\n",
      "parser = argparse.ArgumentParser(description='Export a Mongo Collection into json chunks given an offset')\n",
      "parser.add_argument('--db', metavar='d', type=str, help='specify a mongo db', dest='db')\n",
      "parser.add_argument('--collection', metavar='c', type=str, help='specify a mongo collection', dest='collection')\n",
      "parser.add_argument('--offset', metavar='O', type=int, help='specify an offset (default=1000)', dest='offset')\n",
      "parser.add_argument('--prefix', metavar='o', type=str, help='specify an output prefix', dest='prefix')\n",
      "parser.add_argument('--dir', metavar='D', type=str, help='specify an existing directory', dest='directory', default='')\n",
      "args = parser.parse_args()\n",
      " \n",
      "# variables\n",
      "db = client[args.db]\n",
      "collection = db[args.collection]\n",
      "offset = args.offset\n",
      "prefix = args.prefix\n",
      " \n",
      "print 'Selected database: {}'.format(db)\n",
      "print 'Selected collection: {}'.format(collection)\n",
      "print 'Offset: {}'.format(offset)\n",
      " \n",
      "last_offset = 0\n",
      " \n",
      " \n",
      "def json_chunks(offset):\n",
      "   offset = offset\n",
      "   total_docs = collection.find().count()\n",
      " \n",
      "   if total_docs < offset:\n",
      "     print '! Error: offset is greater than number of total documents'\n",
      "     exit()\n",
      " \n",
      " \n",
      "   chunks = total_docs / offset\n",
      "   chunk_idx = 0\n",
      " \n",
      "   for i in range(0, total_docs + offset, offset):\n",
      "     if i >= total_docs:\n",
      "       print 'export successfully finished'\n",
      "       exit()\n",
      "     dump = None\n",
      "     docs = None\n",
      "     json_file_path = os.path.join('{}'.format(args.directory), '{}_chunk__{}.json'.format(args.prefix, chunk_idx))\n",
      " \n",
      "     print 'i: {}'.format(i)\n",
      "     print 'offset: {}'.format(i + offset)\n",
      " \n",
      "     print 'query: collection.find().skip({}).limit({})'.format(i, offset)\n",
      " \n",
      "     if i + offset > total_docs:\n",
      "       offset_diff = offset - total_docs\n",
      "       offset = offset - offset_diff\n",
      " \n",
      "     docs = collection.find().skip(i).limit(offset)\n",
      "     with open(json_file_path, 'w') as outfile:\n",
      "       dump = json.dumps([doc for doc in docs], sort_keys=False, indent=4, default=json_util.default)\n",
      "       outfile.write(dump)\n",
      "     chunk_idx += 1\n",
      "   print 'export successfully finished'\n",
      " \n",
      "json_chunks(offset)"
     ],
     "language": "python",
     "metadata": {},
     "outputs": [
      {
       "output_type": "stream",
       "stream": "stderr",
       "text": [
        "usage: -c [-h] [--db d] [--collection c] [--offset O] [--prefix o] [--dir D]\n",
        "-c: error: unrecognized arguments: -f /Users/youngstone/.ipython/profile_default/security/kernel-9b627cad-09f4-43ad-a739-8c25915c9772.json --IPKernelApp.parent_appname='ipython-notebook' --profile-dir /Users/youngstone/.ipython/profile_default --parent=1\n"
       ]
      },
      {
       "ename": "SystemExit",
       "evalue": "2",
       "output_type": "pyerr",
       "traceback": [
        "An exception has occurred, use %tb to see the full traceback.\n",
        "\u001b[0;31mSystemExit\u001b[0m\u001b[0;31m:\u001b[0m 2\n"
       ]
      },
      {
       "output_type": "stream",
       "stream": "stderr",
       "text": [
        "To exit: use 'exit', 'quit', or Ctrl-D.\n"
       ]
      }
     ],
     "prompt_number": 1
    },
    {
     "cell_type": "code",
     "collapsed": false,
     "input": [
      "!python mongo_chunk.py --help"
     ],
     "language": "python",
     "metadata": {},
     "outputs": [
      {
       "output_type": "stream",
       "stream": "stdout",
       "text": [
        "python: can't open file 'mongo_chunk.py': [Errno 2] No such file or directory\r\n"
       ]
      }
     ],
     "prompt_number": 3
    },
    {
     "cell_type": "code",
     "collapsed": false,
     "input": [],
     "language": "python",
     "metadata": {},
     "outputs": []
    }
   ],
   "metadata": {}
  }
 ]
}