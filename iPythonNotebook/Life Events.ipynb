{
 "metadata": {
  "name": "",
  "signature": "sha256:ed47545f98935c57cd7284e074773ad742deee0245d6d0c90ab4bfe8b6db7b71"
 },
 "nbformat": 3,
 "nbformat_minor": 0,
 "worksheets": [
  {
   "cells": [
    {
     "cell_type": "code",
     "collapsed": false,
     "input": [
      "# Learn about API authentication here: https://plot.ly/python/getting-started\n",
      "# Find your api_key here: https://plot.ly/settings/api\n",
      "\n",
      "import plotly.plotly as py\n",
      "from plotly.graph_objs import *\n",
      "from IPython.display import display\n",
      "from IPython.display import Image\n",
      "import pandas as pd\n",
      "import re\n",
      "import cPickle as pkl\n",
      "import json\n",
      "import numpy as np\n",
      "%matplotlib inline\n"
     ],
     "language": "python",
     "metadata": {},
     "outputs": [],
     "prompt_number": 1
    },
    {
     "cell_type": "code",
     "collapsed": false,
     "input": [
      "def run_on_start_2():\n",
      "    print \"loading dataframe...\"\n",
      "    with open('../data/patent_dataframe.pkl', 'rb') as handle:\n",
      "        df = pkl.load(handle)\n",
      "    return df"
     ],
     "language": "python",
     "metadata": {},
     "outputs": [],
     "prompt_number": 2
    },
    {
     "cell_type": "code",
     "collapsed": false,
     "input": [],
     "language": "python",
     "metadata": {},
     "outputs": []
    },
    {
     "cell_type": "code",
     "collapsed": false,
     "input": [
      "df = run_on_start_2()"
     ],
     "language": "python",
     "metadata": {},
     "outputs": [
      {
       "output_type": "stream",
       "stream": "stdout",
       "text": [
        "loading dataframe...\n"
       ]
      }
     ],
     "prompt_number": 3
    },
    {
     "cell_type": "code",
     "collapsed": false,
     "input": [
      "cond = df['Filing Date'].apply(lambda x: type(x)) == pd.tslib.NaTType\n",
      "df = df[~cond]"
     ],
     "language": "python",
     "metadata": {},
     "outputs": [],
     "prompt_number": 138
    },
    {
     "cell_type": "code",
     "collapsed": false,
     "input": [
      "a = df['legal-events'].apply(lambda x: {} if type(x) == float else x).apply(len).values"
     ],
     "language": "python",
     "metadata": {},
     "outputs": [],
     "prompt_number": 15
    },
    {
     "cell_type": "code",
     "collapsed": false,
     "input": [
      "from collections import Counter"
     ],
     "language": "python",
     "metadata": {},
     "outputs": [],
     "prompt_number": 16
    },
    {
     "cell_type": "code",
     "collapsed": false,
     "input": [
      "Counter(a)"
     ],
     "language": "python",
     "metadata": {},
     "outputs": [
      {
       "metadata": {},
       "output_type": "pyout",
       "prompt_number": 17,
       "text": [
        "Counter({1: 401, 4: 399, 2: 367, 3: 356, 5: 319, 6: 229, 0: 145, 7: 128, 8: 49, 9: 36, 10: 19, 11: 9, 12: 3, 14: 2, 13: 1, 15: 1, 16: 1})"
       ]
      }
     ],
     "prompt_number": 17
    },
    {
     "cell_type": "code",
     "collapsed": false,
     "input": [
      "df['legal-events'][2450]"
     ],
     "language": "python",
     "metadata": {},
     "outputs": [
      {
       "metadata": {},
       "output_type": "pyout",
       "prompt_number": 22,
       "text": [
        "[{u'Code': u'FPAY',\n",
        "  u'Date': u'Nov 7, 2000',\n",
        "  u'Description': u'Year of fee payment: 12',\n",
        "  u'Event': u'Fee payment'},\n",
        " {u'Code': u'FPAY',\n",
        "  u'Date': u'Nov 1, 1996',\n",
        "  u'Description': u'Year of fee payment: 8',\n",
        "  u'Event': u'Fee payment'},\n",
        " {u'Code': u'CC',\n",
        "  u'Date': u'Feb 2, 1993',\n",
        "  u'Description': u'',\n",
        "  u'Event': u'Certificate of correction'},\n",
        " {u'Code': u'FPAY',\n",
        "  u'Date': u'Jan 11, 1993',\n",
        "  u'Description': u'Year of fee payment: 4',\n",
        "  u'Event': u'Fee payment'},\n",
        " {u'Code': u'CC',\n",
        "  u'Date': u'Sep 25, 1990',\n",
        "  u'Description': u'',\n",
        "  u'Event': u'Certificate of correction'},\n",
        " {u'Code': u'AS',\n",
        "  u'Date': u'Oct 7, 1987',\n",
        "  u'Description': u'Owner name: SALK INSTITUTE FOR BIOLOGICAL STUDIES, THE, SAN DIFree format text: ASSIGNMENT OF ASSIGNORS INTEREST.;ASSIGNORS:VALE, WYLIE W., JR.;RIVIER, JEAN E. F.;SPIESS, JOACHIM;REEL/FRAME:004791/0179;SIGNING DATES FROM 19870903 TO 19870909Free format text: ASSIGNMENT OF ASSIGNORS INTEREST;ASSIGNORS:VALE, WYLIE W., JR.;RIVIER, JEAN E. F.;SPIESS, JOACHIM;SIGNING DATES FROM 19870903 TO 19870909;REEL/FRAME:004791/0179',\n",
        "  u'Event': u'Assignment'}]"
       ]
      }
     ],
     "prompt_number": 22
    },
    {
     "cell_type": "code",
     "collapsed": false,
     "input": [
      "def events_count(entry):\n",
      "    code = []\n",
      "    if type(entry) != float:\n",
      "        for event in entry:\n",
      "            code.append(event['Code'])\n",
      "    return Counter(code)"
     ],
     "language": "python",
     "metadata": {},
     "outputs": [],
     "prompt_number": 25
    },
    {
     "cell_type": "code",
     "collapsed": false,
     "input": [
      "df['legal-events'].apply(events_count)"
     ],
     "language": "python",
     "metadata": {},
     "outputs": [
      {
       "metadata": {},
       "output_type": "pyout",
       "prompt_number": 26,
       "text": [
        "0             {}\n",
        "1             {}\n",
        "2     {u'AS': 1}\n",
        "3             {}\n",
        "4             {}\n",
        "5             {}\n",
        "6             {}\n",
        "7             {}\n",
        "8             {}\n",
        "9             {}\n",
        "10            {}\n",
        "11            {}\n",
        "12            {}\n",
        "13            {}\n",
        "14            {}\n",
        "...\n",
        "2450                     {u'FPAY': 3, u'CC': 2, u'AS': 1}\n",
        "2451    {u'FP': 1, u'REMI': 1, u'LAPS': 1, u'FPAY': 1,...\n",
        "2452                               {u'FPAY': 3, u'AS': 1}\n",
        "2453    {u'FPAY': 3, u'REMI': 1, u'CC': 1, u'SULP': 1,...\n",
        "2454                               {u'FPAY': 3, u'AS': 3}\n",
        "2455       {u'FP': 1, u'REMI': 1, u'LAPS': 1, u'FPAY': 2}\n",
        "2456    {u'FP': 1, u'FPAY': 2, u'LAPS': 1, u'AS': 2, u...\n",
        "2457                     {u'FPAY': 3, u'CC': 2, u'AS': 2}\n",
        "2458    {u'FP': 1, u'REMI': 1, u'LAPS': 1, u'FPAY': 1,...\n",
        "2459                               {u'FPAY': 3, u'AS': 1}\n",
        "2460                                                   {}\n",
        "2461                                                   {}\n",
        "2462                                                   {}\n",
        "2463                                                   {}\n",
        "2464                                                   {}\n",
        "Name: legal-events, Length: 2465, dtype: object"
       ]
      }
     ],
     "prompt_number": 26
    },
    {
     "cell_type": "code",
     "collapsed": false,
     "input": [
      "df['legal-events'].iloc[ 2451 ]"
     ],
     "language": "python",
     "metadata": {},
     "outputs": [
      {
       "metadata": {},
       "output_type": "pyout",
       "prompt_number": 29,
       "text": [
        "[{u'Code': u'FP',\n",
        "  u'Date': u'Nov 11, 1997',\n",
        "  u'Description': u'Effective date: 19970903',\n",
        "  u'Event': u'Expired due to failure to pay maintenance fee'},\n",
        " {u'Code': u'LAPS',\n",
        "  u'Date': u'Aug 31, 1997',\n",
        "  u'Description': u'',\n",
        "  u'Event': u'Lapse for failure to pay maintenance fees'},\n",
        " {u'Code': u'REMI',\n",
        "  u'Date': u'Apr 8, 1997',\n",
        "  u'Description': u'',\n",
        "  u'Event': u'Maintenance fee reminder mailed'},\n",
        " {u'Code': u'FPAY',\n",
        "  u'Date': u'Jan 6, 1993',\n",
        "  u'Description': u'Year of fee payment: 4',\n",
        "  u'Event': u'Fee payment'},\n",
        " {u'Code': u'AS',\n",
        "  u'Date': u'Apr 7, 1989',\n",
        "  u'Description': u'Owner name: ALBERT EINSTEIN COLLEGE OF MEDICINE, 1300 MORRIS PFree format text: ASSIGNMENT OF ASSIGNORS INTEREST.;ASSIGNORS:ATKINSON, PAUL H.;PORUCHYNSKY, MARIANNE S.;REEL/FRAME:005038/0289Effective date: 19890328',\n",
        "  u'Event': u'Assignment'}]"
       ]
      }
     ],
     "prompt_number": 29
    },
    {
     "cell_type": "code",
     "collapsed": false,
     "input": [
      "def get_code(entry):\n",
      "    code = []\n",
      "    if type(entry) != float:\n",
      "        for event in entry:\n",
      "            code.append(event['Code'])\n",
      "    return code"
     ],
     "language": "python",
     "metadata": {},
     "outputs": [],
     "prompt_number": 30
    },
    {
     "cell_type": "code",
     "collapsed": false,
     "input": [
      "def get_date(entry):\n",
      "    date = []\n",
      "    if type(entry) != float:\n",
      "        for event in entry:\n",
      "            dt = event['Date']\n",
      "            dt_dt = datetime.strptime(dt, '%b %d, %Y')\n",
      "            date.append(dt_dt)\n",
      "    return date"
     ],
     "language": "python",
     "metadata": {},
     "outputs": [],
     "prompt_number": 85
    },
    {
     "cell_type": "code",
     "collapsed": false,
     "input": [
      "def get_event(entry):\n",
      "    case = []\n",
      "    if type(entry) != float:\n",
      "        for event in entry:\n",
      "            case.append(event['Code'])\n",
      "    return case"
     ],
     "language": "python",
     "metadata": {},
     "outputs": [],
     "prompt_number": 77
    },
    {
     "cell_type": "code",
     "collapsed": false,
     "input": [
      "cod = df['legal-events'].apply(get_code)"
     ],
     "language": "python",
     "metadata": {},
     "outputs": [],
     "prompt_number": 113
    },
    {
     "cell_type": "code",
     "collapsed": false,
     "input": [
      "dat = df['legal-events'].apply(get_date)"
     ],
     "language": "python",
     "metadata": {},
     "outputs": [],
     "prompt_number": 114
    },
    {
     "cell_type": "code",
     "collapsed": false,
     "input": [
      "evt = df['legal-events'].apply(get_event)"
     ],
     "language": "python",
     "metadata": {},
     "outputs": [],
     "prompt_number": 115
    },
    {
     "cell_type": "code",
     "collapsed": false,
     "input": [
      "fil_dat = df['Filing Date'].tolist()"
     ],
     "language": "python",
     "metadata": {},
     "outputs": [],
     "prompt_number": 116
    },
    {
     "cell_type": "code",
     "collapsed": false,
     "input": [
      "# a = fil_dat[0]"
     ],
     "language": "python",
     "metadata": {},
     "outputs": [],
     "prompt_number": 117
    },
    {
     "cell_type": "code",
     "collapsed": false,
     "input": [
      "# a.to_datetime()"
     ],
     "language": "python",
     "metadata": {},
     "outputs": [],
     "prompt_number": 118
    },
    {
     "cell_type": "code",
     "collapsed": false,
     "input": [
      "new_dat = []\n",
      "for ix, d in enumerate(dat):\n",
      "#     print d\n",
      "#     print fil_dat[ix]\n",
      "    d.insert(0, fil_dat[ix].to_datetime())\n",
      "#     print d\n",
      "#     print \n",
      "    new_dat.append(d)"
     ],
     "language": "python",
     "metadata": {},
     "outputs": [
      {
       "ename": "ValueError",
       "evalue": "year is out of range",
       "output_type": "pyerr",
       "traceback": [
        "\u001b[0;31m---------------------------------------------------------------------------\u001b[0m\n\u001b[0;31mValueError\u001b[0m                                Traceback (most recent call last)",
        "\u001b[0;32m<ipython-input-122-f1d302e632bc>\u001b[0m in \u001b[0;36m<module>\u001b[0;34m()\u001b[0m\n\u001b[1;32m      3\u001b[0m \u001b[0;31m#     print d\u001b[0m\u001b[0;34m\u001b[0m\u001b[0;34m\u001b[0m\u001b[0m\n\u001b[1;32m      4\u001b[0m \u001b[0;31m#     print fil_dat[ix]\u001b[0m\u001b[0;34m\u001b[0m\u001b[0;34m\u001b[0m\u001b[0m\n\u001b[0;32m----> 5\u001b[0;31m     \u001b[0md\u001b[0m\u001b[0;34m.\u001b[0m\u001b[0minsert\u001b[0m\u001b[0;34m(\u001b[0m\u001b[0;36m0\u001b[0m\u001b[0;34m,\u001b[0m \u001b[0mfil_dat\u001b[0m\u001b[0;34m[\u001b[0m\u001b[0mix\u001b[0m\u001b[0;34m]\u001b[0m\u001b[0;34m.\u001b[0m\u001b[0mto_datetime\u001b[0m\u001b[0;34m(\u001b[0m\u001b[0;34m)\u001b[0m\u001b[0;34m)\u001b[0m\u001b[0;34m\u001b[0m\u001b[0m\n\u001b[0m\u001b[1;32m      6\u001b[0m \u001b[0;31m#     print d\u001b[0m\u001b[0;34m\u001b[0m\u001b[0;34m\u001b[0m\u001b[0m\n\u001b[1;32m      7\u001b[0m \u001b[0;31m#     print\u001b[0m\u001b[0;34m\u001b[0m\u001b[0;34m\u001b[0m\u001b[0m\n",
        "\u001b[0;32m/Users/youngstone/anaconda/lib/python2.7/site-packages/pandas/tslib.so\u001b[0m in \u001b[0;36mpandas.tslib._Timestamp.to_datetime (pandas/tslib.c:13779)\u001b[0;34m()\u001b[0m\n",
        "\u001b[0;32m/Users/youngstone/anaconda/lib/python2.7/site-packages/pandas/tslib.so\u001b[0m in \u001b[0;36mpandas.tslib._Timestamp.to_datetime (pandas/tslib.c:13723)\u001b[0;34m()\u001b[0m\n",
        "\u001b[0;31mValueError\u001b[0m: year is out of range"
       ]
      }
     ],
     "prompt_number": 122
    },
    {
     "cell_type": "code",
     "collapsed": false,
     "input": [
      "dat"
     ],
     "language": "python",
     "metadata": {},
     "outputs": [
      {
       "metadata": {},
       "output_type": "pyout",
       "prompt_number": 65,
       "text": [
        "[]"
       ]
      }
     ],
     "prompt_number": 65
    },
    {
     "cell_type": "code",
     "collapsed": false,
     "input": [
      "import plotly.plotly as py\n",
      "from plotly.graph_objs import *\n",
      "\n",
      "data = Data([\n",
      "    Scatter(\n",
      "        x=dat.iloc[2450],\n",
      "        y=[1, 1, 1, 1, 1, 1],\n",
      "        maker=Marker(\n",
      "#         type=\n",
      "        size=60)\n",
      "    )\n",
      "])\n",
      "plot_url = py.iplot(data, filename='date-axes')"
     ],
     "language": "python",
     "metadata": {},
     "outputs": [],
     "prompt_number": 120
    },
    {
     "cell_type": "code",
     "collapsed": false,
     "input": [
      "plot_url"
     ],
     "language": "python",
     "metadata": {},
     "outputs": [
      {
       "html": [
        "<iframe id=\"igraph\" scrolling=\"no\" style=\"border:none;\"seamless=\"seamless\" src=\"https://plot.ly/~atombo/294.embed\" height=\"525\" width=\"100%\"></iframe>"
       ],
       "metadata": {},
       "output_type": "pyout",
       "prompt_number": 121,
       "text": [
        "<plotly.tools.PlotlyDisplay at 0x111aa66d0>"
       ]
      }
     ],
     "prompt_number": 121
    },
    {
     "cell_type": "code",
     "collapsed": false,
     "input": [
      "from datetime import datetime "
     ],
     "language": "python",
     "metadata": {},
     "outputs": [],
     "prompt_number": 103
    },
    {
     "cell_type": "code",
     "collapsed": false,
     "input": [
      "datetime.strptime('Nov 7, 2000', '%b %d, %Y')"
     ],
     "language": "python",
     "metadata": {},
     "outputs": [
      {
       "metadata": {},
       "output_type": "pyout",
       "prompt_number": 47,
       "text": [
        "datetime.datetime(2000, 11, 7, 0, 0)"
       ]
      }
     ],
     "prompt_number": 47
    },
    {
     "cell_type": "code",
     "collapsed": false,
     "input": [
      "a = np.array(cod)"
     ],
     "language": "python",
     "metadata": {},
     "outputs": [],
     "prompt_number": 128
    },
    {
     "cell_type": "code",
     "collapsed": false,
     "input": [
      "b = a.flatten()"
     ],
     "language": "python",
     "metadata": {},
     "outputs": [],
     "prompt_number": 136
    },
    {
     "cell_type": "code",
     "collapsed": false,
     "input": [],
     "language": "python",
     "metadata": {},
     "outputs": [
      {
       "metadata": {},
       "output_type": "pyout",
       "prompt_number": 137,
       "text": [
        "array([[], [], [u'AS'], ..., [], [], []], dtype=object)"
       ]
      }
     ],
     "prompt_number": 137
    },
    {
     "cell_type": "code",
     "collapsed": false,
     "input": [
      "cod_all = [item for sublist in a for item in sublist]"
     ],
     "language": "python",
     "metadata": {},
     "outputs": [],
     "prompt_number": 133
    },
    {
     "cell_type": "code",
     "collapsed": false,
     "input": [
      "cod_all"
     ],
     "language": "python",
     "metadata": {},
     "outputs": []
    },
    {
     "cell_type": "code",
     "collapsed": false,
     "input": [
      "Counter(cod_all)"
     ],
     "language": "python",
     "metadata": {},
     "outputs": [
      {
       "metadata": {},
       "output_type": "pyout",
       "prompt_number": 134,
       "text": [
        "Counter({u'AS': 3134, u'FPAY': 2544, u'REMI': 928, u'LAPS': 681, u'FP': 677, u'CC': 604, u'SULP': 168, u'PRDP': 10, u'REIN': 10, u'XAS': 8, u'RF': 7, u'PA': 2, u'DJ': 1, u'RR': 1, u'DC': 1, u'DI': 1})"
       ]
      }
     ],
     "prompt_number": 134
    },
    {
     "cell_type": "code",
     "collapsed": false,
     "input": [
      "def determine_FP(entry):\n",
      "    if len(entry) > 0:\n",
      "        "
     ],
     "language": "python",
     "metadata": {},
     "outputs": []
    }
   ],
   "metadata": {}
  }
 ]
}