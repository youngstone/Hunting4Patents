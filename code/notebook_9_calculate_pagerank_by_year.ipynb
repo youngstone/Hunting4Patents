{
 "metadata": {
  "name": "",
  "signature": "sha256:09bf6710523075602504e4810e7dc89c3ac06fffdc9eab09751ea90787cb024a"
 },
 "nbformat": 3,
 "nbformat_minor": 0,
 "worksheets": [
  {
   "cells": [
    {
     "cell_type": "code",
     "collapsed": false,
     "input": [
      "import pandas as pd\n",
      "import numpy as np\n",
      "from datetime import date\n",
      "import graphlab as gl\n",
      "import networkx as nx\n",
      "from collections import Counter, defaultdict\n",
      "import matplotlib.pyplot as plt\n",
      "import plotly.plotly as ply\n",
      "from IPython.display import display\n",
      "from IPython.display import Image\n",
      "gl.canvas.set_target('ipynb')\n",
      "%matplotlib inline"
     ],
     "language": "python",
     "metadata": {},
     "outputs": [],
     "prompt_number": 28
    },
    {
     "cell_type": "code",
     "collapsed": false,
     "input": [
      "sf_pat_cit = gl.SFrame.read_csv('../data/full_citation_with_category.csv', delimiter=',', error_bad_lines=True)"
     ],
     "language": "python",
     "metadata": {},
     "outputs": [
      {
       "html": [
        "<pre>PROGRESS: Finished parsing file /Users/youngstone/Documents/Capstone-Project/Hunting4Patents/data/full_citation_with_category.csv</pre>"
       ],
       "metadata": {},
       "output_type": "display_data",
       "text": [
        "PROGRESS: Finished parsing file /Users/youngstone/Documents/Capstone-Project/Hunting4Patents/data/full_citation_with_category.csv"
       ]
      },
      {
       "html": [
        "<pre>PROGRESS: Parsing completed. Parsed 100 lines in 0.651048 secs.</pre>"
       ],
       "metadata": {},
       "output_type": "display_data",
       "text": [
        "PROGRESS: Parsing completed. Parsed 100 lines in 0.651048 secs."
       ]
      },
      {
       "output_type": "stream",
       "stream": "stdout",
       "text": [
        "------------------------------------------------------\n",
        "Inferred types from first line of file as \n",
        "column_type_hints=[int,int,str]\n",
        "If parsing fails due to incorrect types, you can correct\n",
        "the inferred type list above and pass it to read_csv in\n",
        "the column_type_hints argument\n",
        "------------------------------------------------------\n",
        "Unable to parse the file with automatic type inference."
       ]
      },
      {
       "html": [
        "<pre>PROGRESS: Read 2759410 lines. Lines per second: 1.54661e+06</pre>"
       ],
       "metadata": {},
       "output_type": "display_data",
       "text": [
        "PROGRESS: Read 2759410 lines. Lines per second: 1.54661e+06"
       ]
      },
      {
       "html": [
        "<pre>PROGRESS: Read 14762854 lines. Lines per second: 2.19022e+06</pre>"
       ],
       "metadata": {},
       "output_type": "display_data",
       "text": [
        "PROGRESS: Read 14762854 lines. Lines per second: 2.19022e+06"
       ]
      },
      {
       "html": [
        "<pre>PROGRESS: Read 26895232 lines. Lines per second: 2.27798e+06</pre>"
       ],
       "metadata": {},
       "output_type": "display_data",
       "text": [
        "PROGRESS: Read 26895232 lines. Lines per second: 2.27798e+06"
       ]
      },
      {
       "html": [
        "<pre>PROGRESS: Read 39289160 lines. Lines per second: 2.32497e+06</pre>"
       ],
       "metadata": {},
       "output_type": "display_data",
       "text": [
        "PROGRESS: Read 39289160 lines. Lines per second: 2.32497e+06"
       ]
      },
      {
       "html": [
        "<pre>PROGRESS: Read 53086213 lines. Lines per second: 2.40868e+06</pre>"
       ],
       "metadata": {},
       "output_type": "display_data",
       "text": [
        "PROGRESS: Read 53086213 lines. Lines per second: 2.40868e+06"
       ]
      },
      {
       "html": [
        "<pre>PROGRESS: Finished parsing file /Users/youngstone/Documents/Capstone-Project/Hunting4Patents/data/full_citation_with_category.csv</pre>"
       ],
       "metadata": {},
       "output_type": "display_data",
       "text": [
        "PROGRESS: Finished parsing file /Users/youngstone/Documents/Capstone-Project/Hunting4Patents/data/full_citation_with_category.csv"
       ]
      },
      {
       "html": [
        "<pre>PROGRESS: Parsing completed. Parsed 53527305 lines in 22.2092 secs.</pre>"
       ],
       "metadata": {},
       "output_type": "display_data",
       "text": [
        "PROGRESS: Parsing completed. Parsed 53527305 lines in 22.2092 secs."
       ]
      },
      {
       "output_type": "stream",
       "stream": "stdout",
       "text": [
        "\n",
        "Defaulting to column_type_hints=str\n"
       ]
      }
     ],
     "prompt_number": 112
    },
    {
     "cell_type": "code",
     "collapsed": false,
     "input": [
      "sf_pat_yr = gl.SFrame.read_csv('../data/patent_GYear.csv', delimiter=',', error_bad_lines=True)"
     ],
     "language": "python",
     "metadata": {},
     "outputs": [
      {
       "html": [
        "<pre>PROGRESS: Finished parsing file /Users/youngstone/Documents/Capstone-Project/Hunting4Patents/data/patent_GYear.csv</pre>"
       ],
       "metadata": {},
       "output_type": "display_data",
       "text": [
        "PROGRESS: Finished parsing file /Users/youngstone/Documents/Capstone-Project/Hunting4Patents/data/patent_GYear.csv"
       ]
      },
      {
       "html": [
        "<pre>PROGRESS: Parsing completed. Parsed 100 lines in 0.784318 secs.</pre>"
       ],
       "metadata": {},
       "output_type": "display_data",
       "text": [
        "PROGRESS: Parsing completed. Parsed 100 lines in 0.784318 secs."
       ]
      },
      {
       "output_type": "stream",
       "stream": "stdout",
       "text": [
        "------------------------------------------------------\n",
        "Inferred types from first line of file as \n",
        "column_type_hints=[int,int]\n",
        "If parsing fails due to incorrect types, you can correct\n",
        "the inferred type list above and pass it to read_csv in\n",
        "the column_type_hints argument\n",
        "------------------------------------------------------\n",
        "Unable to parse the file with automatic type inference."
       ]
      },
      {
       "html": [
        "<pre>PROGRESS: Read 3744914 lines. Lines per second: 2.06934e+06</pre>"
       ],
       "metadata": {},
       "output_type": "display_data",
       "text": [
        "PROGRESS: Read 3744914 lines. Lines per second: 2.06934e+06"
       ]
      },
      {
       "html": [
        "<pre>PROGRESS: Finished parsing file /Users/youngstone/Documents/Capstone-Project/Hunting4Patents/data/patent_GYear.csv</pre>"
       ],
       "metadata": {},
       "output_type": "display_data",
       "text": [
        "PROGRESS: Finished parsing file /Users/youngstone/Documents/Capstone-Project/Hunting4Patents/data/patent_GYear.csv"
       ]
      },
      {
       "html": [
        "<pre>PROGRESS: Parsing completed. Parsed 4823407 lines in 2.067 secs.</pre>"
       ],
       "metadata": {},
       "output_type": "display_data",
       "text": [
        "PROGRESS: Parsing completed. Parsed 4823407 lines in 2.067 secs."
       ]
      },
      {
       "output_type": "stream",
       "stream": "stdout",
       "text": [
        "\n",
        "Defaulting to column_type_hints=str\n"
       ]
      }
     ],
     "prompt_number": 81
    },
    {
     "cell_type": "code",
     "collapsed": false,
     "input": [
      "sf_joined = sf_pat_yr.join(sf_pat_cit, how='inner')"
     ],
     "language": "python",
     "metadata": {},
     "outputs": [],
     "prompt_number": 113
    },
    {
     "cell_type": "code",
     "collapsed": false,
     "input": [
      "sf_joined['Category'].unique()"
     ],
     "language": "python",
     "metadata": {},
     "outputs": [
      {
       "metadata": {},
       "output_type": "pyout",
       "prompt_number": 115,
       "text": [
        "dtype: str\n",
        "Rows: 3\n",
        "['cited by examiner', 'cited by other', '']"
       ]
      }
     ],
     "prompt_number": 115
    },
    {
     "cell_type": "code",
     "collapsed": false,
     "input": [
      "sf_joined"
     ],
     "language": "python",
     "metadata": {},
     "outputs": [
      {
       "html": [
        "<div style=\"max-height:1000px;max-width:1500px;overflow:auto;\"><table frame=\"box\" rules=\"cols\">\n",
        "    <tr>\n",
        "        <th style=\"padding-left: 1em; padding-right: 1em; text-align: center\">Patent</th>\n",
        "        <th style=\"padding-left: 1em; padding-right: 1em; text-align: center\">GYear</th>\n",
        "        <th style=\"padding-left: 1em; padding-right: 1em; text-align: center\">Citation</th>\n",
        "        <th style=\"padding-left: 1em; padding-right: 1em; text-align: center\">Category</th>\n",
        "    </tr>\n",
        "    <tr>\n",
        "        <td style=\"padding-left: 1em; padding-right: 1em; text-align: center; vertical-align: top\">06009555</td>\n",
        "        <td style=\"padding-left: 1em; padding-right: 1em; text-align: center; vertical-align: top\">2000</td>\n",
        "        <td style=\"padding-left: 1em; padding-right: 1em; text-align: center; vertical-align: top\">04192017</td>\n",
        "        <td style=\"padding-left: 1em; padding-right: 1em; text-align: center; vertical-align: top\"></td>\n",
        "    </tr>\n",
        "    <tr>\n",
        "        <td style=\"padding-left: 1em; padding-right: 1em; text-align: center; vertical-align: top\">06009555</td>\n",
        "        <td style=\"padding-left: 1em; padding-right: 1em; text-align: center; vertical-align: top\">2000</td>\n",
        "        <td style=\"padding-left: 1em; padding-right: 1em; text-align: center; vertical-align: top\">04547903</td>\n",
        "        <td style=\"padding-left: 1em; padding-right: 1em; text-align: center; vertical-align: top\"></td>\n",
        "    </tr>\n",
        "    <tr>\n",
        "        <td style=\"padding-left: 1em; padding-right: 1em; text-align: center; vertical-align: top\">06009555</td>\n",
        "        <td style=\"padding-left: 1em; padding-right: 1em; text-align: center; vertical-align: top\">2000</td>\n",
        "        <td style=\"padding-left: 1em; padding-right: 1em; text-align: center; vertical-align: top\">04768231</td>\n",
        "        <td style=\"padding-left: 1em; padding-right: 1em; text-align: center; vertical-align: top\"></td>\n",
        "    </tr>\n",
        "    <tr>\n",
        "        <td style=\"padding-left: 1em; padding-right: 1em; text-align: center; vertical-align: top\">06009555</td>\n",
        "        <td style=\"padding-left: 1em; padding-right: 1em; text-align: center; vertical-align: top\">2000</td>\n",
        "        <td style=\"padding-left: 1em; padding-right: 1em; text-align: center; vertical-align: top\">04951316</td>\n",
        "        <td style=\"padding-left: 1em; padding-right: 1em; text-align: center; vertical-align: top\"></td>\n",
        "    </tr>\n",
        "    <tr>\n",
        "        <td style=\"padding-left: 1em; padding-right: 1em; text-align: center; vertical-align: top\">06009555</td>\n",
        "        <td style=\"padding-left: 1em; padding-right: 1em; text-align: center; vertical-align: top\">2000</td>\n",
        "        <td style=\"padding-left: 1em; padding-right: 1em; text-align: center; vertical-align: top\">05105475</td>\n",
        "        <td style=\"padding-left: 1em; padding-right: 1em; text-align: center; vertical-align: top\"></td>\n",
        "    </tr>\n",
        "    <tr>\n",
        "        <td style=\"padding-left: 1em; padding-right: 1em; text-align: center; vertical-align: top\">06009556</td>\n",
        "        <td style=\"padding-left: 1em; padding-right: 1em; text-align: center; vertical-align: top\">2000</td>\n",
        "        <td style=\"padding-left: 1em; padding-right: 1em; text-align: center; vertical-align: top\">03982547</td>\n",
        "        <td style=\"padding-left: 1em; padding-right: 1em; text-align: center; vertical-align: top\"></td>\n",
        "    </tr>\n",
        "    <tr>\n",
        "        <td style=\"padding-left: 1em; padding-right: 1em; text-align: center; vertical-align: top\">06009556</td>\n",
        "        <td style=\"padding-left: 1em; padding-right: 1em; text-align: center; vertical-align: top\">2000</td>\n",
        "        <td style=\"padding-left: 1em; padding-right: 1em; text-align: center; vertical-align: top\">04004297</td>\n",
        "        <td style=\"padding-left: 1em; padding-right: 1em; text-align: center; vertical-align: top\"></td>\n",
        "    </tr>\n",
        "    <tr>\n",
        "        <td style=\"padding-left: 1em; padding-right: 1em; text-align: center; vertical-align: top\">06009556</td>\n",
        "        <td style=\"padding-left: 1em; padding-right: 1em; text-align: center; vertical-align: top\">2000</td>\n",
        "        <td style=\"padding-left: 1em; padding-right: 1em; text-align: center; vertical-align: top\">04301545</td>\n",
        "        <td style=\"padding-left: 1em; padding-right: 1em; text-align: center; vertical-align: top\"></td>\n",
        "    </tr>\n",
        "    <tr>\n",
        "        <td style=\"padding-left: 1em; padding-right: 1em; text-align: center; vertical-align: top\">06009556</td>\n",
        "        <td style=\"padding-left: 1em; padding-right: 1em; text-align: center; vertical-align: top\">2000</td>\n",
        "        <td style=\"padding-left: 1em; padding-right: 1em; text-align: center; vertical-align: top\">04306317</td>\n",
        "        <td style=\"padding-left: 1em; padding-right: 1em; text-align: center; vertical-align: top\"></td>\n",
        "    </tr>\n",
        "    <tr>\n",
        "        <td style=\"padding-left: 1em; padding-right: 1em; text-align: center; vertical-align: top\">06009556</td>\n",
        "        <td style=\"padding-left: 1em; padding-right: 1em; text-align: center; vertical-align: top\">2000</td>\n",
        "        <td style=\"padding-left: 1em; padding-right: 1em; text-align: center; vertical-align: top\">04635640</td>\n",
        "        <td style=\"padding-left: 1em; padding-right: 1em; text-align: center; vertical-align: top\"></td>\n",
        "    </tr>\n",
        "    <tr>\n",
        "        <td style=\"padding-left: 1em; padding-right: 1em; text-align: center; vertical-align: top\">...</td>\n",
        "        <td style=\"padding-left: 1em; padding-right: 1em; text-align: center; vertical-align: top\">...</td>\n",
        "        <td style=\"padding-left: 1em; padding-right: 1em; text-align: center; vertical-align: top\">...</td>\n",
        "        <td style=\"padding-left: 1em; padding-right: 1em; text-align: center; vertical-align: top\">...</td>\n",
        "    </tr>\n",
        "</table>\n",
        "[53573731 rows x 4 columns]<br/>Note: Only the head of the SFrame is printed.<br/>You can use print_rows(num_rows=m, num_columns=n) to print more rows and columns.\n",
        "</div>"
       ],
       "metadata": {},
       "output_type": "pyout",
       "prompt_number": 119,
       "text": [
        "Columns:\n",
        "\tPatent\tstr\n",
        "\tGYear\tstr\n",
        "\tCitation\tstr\n",
        "\tCategory\tstr\n",
        "\n",
        "Rows: 53573731\n",
        "\n",
        "Data:\n",
        "+----------+-------+----------+----------+\n",
        "|  Patent  | GYear | Citation | Category |\n",
        "+----------+-------+----------+----------+\n",
        "| 06009555 |  2000 | 04192017 |          |\n",
        "| 06009555 |  2000 | 04547903 |          |\n",
        "| 06009555 |  2000 | 04768231 |          |\n",
        "| 06009555 |  2000 | 04951316 |          |\n",
        "| 06009555 |  2000 | 05105475 |          |\n",
        "| 06009556 |  2000 | 03982547 |          |\n",
        "| 06009556 |  2000 | 04004297 |          |\n",
        "| 06009556 |  2000 | 04301545 |          |\n",
        "| 06009556 |  2000 | 04306317 |          |\n",
        "| 06009556 |  2000 | 04635640 |          |\n",
        "|   ...    |  ...  |   ...    |   ...    |\n",
        "+----------+-------+----------+----------+\n",
        "[53573731 rows x 4 columns]\n",
        "Note: Only the head of the SFrame is printed.\n",
        "You can use print_rows(num_rows=m, num_columns=n) to print more rows and columns."
       ]
      }
     ],
     "prompt_number": 119
    },
    {
     "cell_type": "code",
     "collapsed": false,
     "input": [
      "sf_pat_cit.groupby('Category', gl.aggregate.COUNT)"
     ],
     "language": "python",
     "metadata": {},
     "outputs": [
      {
       "html": [
        "<div style=\"max-height:1000px;max-width:1500px;overflow:auto;\"><table frame=\"box\" rules=\"cols\">\n",
        "    <tr>\n",
        "        <th style=\"padding-left: 1em; padding-right: 1em; text-align: center\">Category</th>\n",
        "        <th style=\"padding-left: 1em; padding-right: 1em; text-align: center\">Count</th>\n",
        "    </tr>\n",
        "    <tr>\n",
        "        <td style=\"padding-left: 1em; padding-right: 1em; text-align: center; vertical-align: top\">cited by examiner</td>\n",
        "        <td style=\"padding-left: 1em; padding-right: 1em; text-align: center; vertical-align: top\">7418356</td>\n",
        "    </tr>\n",
        "    <tr>\n",
        "        <td style=\"padding-left: 1em; padding-right: 1em; text-align: center; vertical-align: top\">cited by other</td>\n",
        "        <td style=\"padding-left: 1em; padding-right: 1em; text-align: center; vertical-align: top\">18997967</td>\n",
        "    </tr>\n",
        "    <tr>\n",
        "        <td style=\"padding-left: 1em; padding-right: 1em; text-align: center; vertical-align: top\"></td>\n",
        "        <td style=\"padding-left: 1em; padding-right: 1em; text-align: center; vertical-align: top\">27110982</td>\n",
        "    </tr>\n",
        "</table>\n",
        "[3 rows x 2 columns]<br/>\n",
        "</div>"
       ],
       "metadata": {},
       "output_type": "pyout",
       "prompt_number": 118,
       "text": [
        "Columns:\n",
        "\tCategory\tstr\n",
        "\tCount\tint\n",
        "\n",
        "Rows: 3\n",
        "\n",
        "Data:\n",
        "+-------------------+----------+\n",
        "|      Category     |  Count   |\n",
        "+-------------------+----------+\n",
        "| cited by examiner | 7418356  |\n",
        "|   cited by other  | 18997967 |\n",
        "|                   | 27110982 |\n",
        "+-------------------+----------+\n",
        "[3 rows x 2 columns]"
       ]
      }
     ],
     "prompt_number": 118
    },
    {
     "cell_type": "code",
     "collapsed": false,
     "input": [
      "sf_pat_cit.groupby('Citation', gl.aggregate.COUNT).sort('Count', ascending=False)"
     ],
     "language": "python",
     "metadata": {},
     "outputs": [
      {
       "html": [
        "<div style=\"max-height:1000px;max-width:1500px;overflow:auto;\"><table frame=\"box\" rules=\"cols\">\n",
        "    <tr>\n",
        "        <th style=\"padding-left: 1em; padding-right: 1em; text-align: center\">Citation</th>\n",
        "        <th style=\"padding-left: 1em; padding-right: 1em; text-align: center\">Count</th>\n",
        "    </tr>\n",
        "    <tr>\n",
        "        <td style=\"padding-left: 1em; padding-right: 1em; text-align: center; vertical-align: top\">04683202</td>\n",
        "        <td style=\"padding-left: 1em; padding-right: 1em; text-align: center; vertical-align: top\">2000</td>\n",
        "    </tr>\n",
        "    <tr>\n",
        "        <td style=\"padding-left: 1em; padding-right: 1em; text-align: center; vertical-align: top\">04723129</td>\n",
        "        <td style=\"padding-left: 1em; padding-right: 1em; text-align: center; vertical-align: top\">1939</td>\n",
        "    </tr>\n",
        "    <tr>\n",
        "        <td style=\"padding-left: 1em; padding-right: 1em; text-align: center; vertical-align: top\">04683195</td>\n",
        "        <td style=\"padding-left: 1em; padding-right: 1em; text-align: center; vertical-align: top\">1823</td>\n",
        "    </tr>\n",
        "    <tr>\n",
        "        <td style=\"padding-left: 1em; padding-right: 1em; text-align: center; vertical-align: top\">04463359</td>\n",
        "        <td style=\"padding-left: 1em; padding-right: 1em; text-align: center; vertical-align: top\">1681</td>\n",
        "    </tr>\n",
        "    <tr>\n",
        "        <td style=\"padding-left: 1em; padding-right: 1em; text-align: center; vertical-align: top\">04740796</td>\n",
        "        <td style=\"padding-left: 1em; padding-right: 1em; text-align: center; vertical-align: top\">1641</td>\n",
        "    </tr>\n",
        "    <tr>\n",
        "        <td style=\"padding-left: 1em; padding-right: 1em; text-align: center; vertical-align: top\">04558333</td>\n",
        "        <td style=\"padding-left: 1em; padding-right: 1em; text-align: center; vertical-align: top\">1562</td>\n",
        "    </tr>\n",
        "    <tr>\n",
        "        <td style=\"padding-left: 1em; padding-right: 1em; text-align: center; vertical-align: top\">04345262</td>\n",
        "        <td style=\"padding-left: 1em; padding-right: 1em; text-align: center; vertical-align: top\">1541</td>\n",
        "    </tr>\n",
        "    <tr>\n",
        "        <td style=\"padding-left: 1em; padding-right: 1em; text-align: center; vertical-align: top\">04313124</td>\n",
        "        <td style=\"padding-left: 1em; padding-right: 1em; text-align: center; vertical-align: top\">1507</td>\n",
        "    </tr>\n",
        "    <tr>\n",
        "        <td style=\"padding-left: 1em; padding-right: 1em; text-align: center; vertical-align: top\">04459600</td>\n",
        "        <td style=\"padding-left: 1em; padding-right: 1em; text-align: center; vertical-align: top\">1464</td>\n",
        "    </tr>\n",
        "    <tr>\n",
        "        <td style=\"padding-left: 1em; padding-right: 1em; text-align: center; vertical-align: top\">04733665</td>\n",
        "        <td style=\"padding-left: 1em; padding-right: 1em; text-align: center; vertical-align: top\">1293</td>\n",
        "    </tr>\n",
        "    <tr>\n",
        "        <td style=\"padding-left: 1em; padding-right: 1em; text-align: center; vertical-align: top\">...</td>\n",
        "        <td style=\"padding-left: 1em; padding-right: 1em; text-align: center; vertical-align: top\">...</td>\n",
        "    </tr>\n",
        "</table>\n",
        "[9754900 rows x 2 columns]<br/>Note: Only the head of the SFrame is printed.<br/>You can use print_rows(num_rows=m, num_columns=n) to print more rows and columns.\n",
        "</div>"
       ],
       "metadata": {},
       "output_type": "pyout",
       "prompt_number": 87,
       "text": [
        "Columns:\n",
        "\tCitation\tstr\n",
        "\tCount\tint\n",
        "\n",
        "Rows: 9754900\n",
        "\n",
        "Data:\n",
        "+----------+-------+\n",
        "| Citation | Count |\n",
        "+----------+-------+\n",
        "| 04683202 |  2000 |\n",
        "| 04723129 |  1939 |\n",
        "| 04683195 |  1823 |\n",
        "| 04463359 |  1681 |\n",
        "| 04740796 |  1641 |\n",
        "| 04558333 |  1562 |\n",
        "| 04345262 |  1541 |\n",
        "| 04313124 |  1507 |\n",
        "| 04459600 |  1464 |\n",
        "| 04733665 |  1293 |\n",
        "|   ...    |  ...  |\n",
        "+----------+-------+\n",
        "[9754900 rows x 2 columns]\n",
        "Note: Only the head of the SFrame is printed.\n",
        "You can use print_rows(num_rows=m, num_columns=n) to print more rows and columns."
       ]
      }
     ],
     "prompt_number": 87
    },
    {
     "cell_type": "code",
     "collapsed": false,
     "input": [
      "gr = gl.SGraph(sf_pat_cit, vid_field='Patent', src_field='Citation', dst_field='Patent')\n",
      "gr.summary()"
     ],
     "language": "python",
     "metadata": {},
     "outputs": [
      {
       "metadata": {},
       "output_type": "pyout",
       "prompt_number": 5,
       "text": [
        "{'num_edges': 0, 'num_vertices': 4130385}"
       ]
      }
     ],
     "prompt_number": 5
    },
    {
     "cell_type": "code",
     "collapsed": false,
     "input": [
      "gr = gr.add_edges(sf_pat_cit, src_field='Citation', dst_field='Patent')\n",
      "gr.summary()"
     ],
     "language": "python",
     "metadata": {},
     "outputs": [
      {
       "metadata": {},
       "output_type": "pyout",
       "prompt_number": 6,
       "text": [
        "{'num_edges': 53527305, 'num_vertices': 10842560}"
       ]
      }
     ],
     "prompt_number": 6
    },
    {
     "cell_type": "code",
     "collapsed": false,
     "input": [
      "pr = gl.pagerank.create(gr)"
     ],
     "language": "python",
     "metadata": {},
     "outputs": [
      {
       "html": [
        "<pre>PROGRESS: +-----------+-----------------------+</pre>"
       ],
       "metadata": {},
       "output_type": "display_data",
       "text": [
        "PROGRESS: +-----------+-----------------------+"
       ]
      },
      {
       "html": [
        "<pre>PROGRESS: | Iteration | L1 change in pagerank |</pre>"
       ],
       "metadata": {},
       "output_type": "display_data",
       "text": [
        "PROGRESS: | Iteration | L1 change in pagerank |"
       ]
      },
      {
       "html": [
        "<pre>PROGRESS: +-----------+-----------------------+</pre>"
       ],
       "metadata": {},
       "output_type": "display_data",
       "text": [
        "PROGRESS: +-----------+-----------------------+"
       ]
      },
      {
       "html": [
        "<pre>PROGRESS: | 1         | 1.2424e+07            |</pre>"
       ],
       "metadata": {},
       "output_type": "display_data",
       "text": [
        "PROGRESS: | 1         | 1.2424e+07            |"
       ]
      },
      {
       "html": [
        "<pre>PROGRESS: | 2         | 5.359e+06             |</pre>"
       ],
       "metadata": {},
       "output_type": "display_data",
       "text": [
        "PROGRESS: | 2         | 5.359e+06             |"
       ]
      },
      {
       "html": [
        "<pre>PROGRESS: | 3         | 1.36051e+06           |</pre>"
       ],
       "metadata": {},
       "output_type": "display_data",
       "text": [
        "PROGRESS: | 3         | 1.36051e+06           |"
       ]
      },
      {
       "html": [
        "<pre>PROGRESS: | 4         | 616467                |</pre>"
       ],
       "metadata": {},
       "output_type": "display_data",
       "text": [
        "PROGRESS: | 4         | 616467                |"
       ]
      },
      {
       "html": [
        "<pre>PROGRESS: | 5         | 284118                |</pre>"
       ],
       "metadata": {},
       "output_type": "display_data",
       "text": [
        "PROGRESS: | 5         | 284118                |"
       ]
      },
      {
       "html": [
        "<pre>PROGRESS: | 6         | 110939                |</pre>"
       ],
       "metadata": {},
       "output_type": "display_data",
       "text": [
        "PROGRESS: | 6         | 110939                |"
       ]
      },
      {
       "html": [
        "<pre>PROGRESS: | 7         | 35613.9               |</pre>"
       ],
       "metadata": {},
       "output_type": "display_data",
       "text": [
        "PROGRESS: | 7         | 35613.9               |"
       ]
      },
      {
       "html": [
        "<pre>PROGRESS: | 8         | 9599.61               |</pre>"
       ],
       "metadata": {},
       "output_type": "display_data",
       "text": [
        "PROGRESS: | 8         | 9599.61               |"
       ]
      },
      {
       "html": [
        "<pre>PROGRESS: | 9         | 2231.92               |</pre>"
       ],
       "metadata": {},
       "output_type": "display_data",
       "text": [
        "PROGRESS: | 9         | 2231.92               |"
       ]
      },
      {
       "html": [
        "<pre>PROGRESS: | 10        | 459.157               |</pre>"
       ],
       "metadata": {},
       "output_type": "display_data",
       "text": [
        "PROGRESS: | 10        | 459.157               |"
       ]
      },
      {
       "html": [
        "<pre>PROGRESS: | 11        | 85.2635               |</pre>"
       ],
       "metadata": {},
       "output_type": "display_data",
       "text": [
        "PROGRESS: | 11        | 85.2635               |"
       ]
      },
      {
       "html": [
        "<pre>PROGRESS: | 12        | 14.5232               |</pre>"
       ],
       "metadata": {},
       "output_type": "display_data",
       "text": [
        "PROGRESS: | 12        | 14.5232               |"
       ]
      },
      {
       "html": [
        "<pre>PROGRESS: | 13        | 2.28454               |</pre>"
       ],
       "metadata": {},
       "output_type": "display_data",
       "text": [
        "PROGRESS: | 13        | 2.28454               |"
       ]
      },
      {
       "html": [
        "<pre>PROGRESS: | 14        | 0.338963              |</pre>"
       ],
       "metadata": {},
       "output_type": "display_data",
       "text": [
        "PROGRESS: | 14        | 0.338963              |"
       ]
      },
      {
       "html": [
        "<pre>PROGRESS: | 15        | 0.0468911             |</pre>"
       ],
       "metadata": {},
       "output_type": "display_data",
       "text": [
        "PROGRESS: | 15        | 0.0468911             |"
       ]
      },
      {
       "html": [
        "<pre>PROGRESS: | 16        | 0.00607285            |</pre>"
       ],
       "metadata": {},
       "output_type": "display_data",
       "text": [
        "PROGRESS: | 16        | 0.00607285            |"
       ]
      },
      {
       "html": [
        "<pre>PROGRESS: +-----------+-----------------------+</pre>"
       ],
       "metadata": {},
       "output_type": "display_data",
       "text": [
        "PROGRESS: +-----------+-----------------------+"
       ]
      }
     ],
     "prompt_number": 7
    },
    {
     "cell_type": "code",
     "collapsed": false,
     "input": [],
     "language": "python",
     "metadata": {},
     "outputs": []
    },
    {
     "cell_type": "code",
     "collapsed": false,
     "input": [
      "pr_out = pr['pagerank']\n",
      "pr_out.sort('pagerank', ascending=False)[:100]"
     ],
     "language": "python",
     "metadata": {},
     "outputs": [
      {
       "html": [
        "<div style=\"max-height:1000px;max-width:1500px;overflow:auto;\"><table frame=\"box\" rules=\"cols\">\n",
        "    <tr>\n",
        "        <th style=\"padding-left: 1em; padding-right: 1em; text-align: center\">__id</th>\n",
        "        <th style=\"padding-left: 1em; padding-right: 1em; text-align: center\">pagerank</th>\n",
        "        <th style=\"padding-left: 1em; padding-right: 1em; text-align: center\">delta</th>\n",
        "    </tr>\n",
        "    <tr>\n",
        "        <td style=\"padding-left: 1em; padding-right: 1em; text-align: center; vertical-align: top\">07635745</td>\n",
        "        <td style=\"padding-left: 1em; padding-right: 1em; text-align: center; vertical-align: top\">129.742438778</td>\n",
        "        <td style=\"padding-left: 1em; padding-right: 1em; text-align: center; vertical-align: top\">9.3565034831e-08</td>\n",
        "    </tr>\n",
        "    <tr>\n",
        "        <td style=\"padding-left: 1em; padding-right: 1em; text-align: center; vertical-align: top\">07620378</td>\n",
        "        <td style=\"padding-left: 1em; padding-right: 1em; text-align: center; vertical-align: top\">109.501197139</td>\n",
        "        <td style=\"padding-left: 1em; padding-right: 1em; text-align: center; vertical-align: top\">1.49614129441e-05</td>\n",
        "    </tr>\n",
        "    <tr>\n",
        "        <td style=\"padding-left: 1em; padding-right: 1em; text-align: center; vertical-align: top\">07550528</td>\n",
        "        <td style=\"padding-left: 1em; padding-right: 1em; text-align: center; vertical-align: top\">91.7152448134</td>\n",
        "        <td style=\"padding-left: 1em; padding-right: 1em; text-align: center; vertical-align: top\">9.57859924711e-09</td>\n",
        "    </tr>\n",
        "    <tr>\n",
        "        <td style=\"padding-left: 1em; padding-right: 1em; text-align: center; vertical-align: top\">07524910</td>\n",
        "        <td style=\"padding-left: 1em; padding-right: 1em; text-align: center; vertical-align: top\">91.2675773914</td>\n",
        "        <td style=\"padding-left: 1em; padding-right: 1em; text-align: center; vertical-align: top\">9.57864187967e-09</td>\n",
        "    </tr>\n",
        "    <tr>\n",
        "        <td style=\"padding-left: 1em; padding-right: 1em; text-align: center; vertical-align: top\">07579510</td>\n",
        "        <td style=\"padding-left: 1em; padding-right: 1em; text-align: center; vertical-align: top\">90.306211645</td>\n",
        "        <td style=\"padding-left: 1em; padding-right: 1em; text-align: center; vertical-align: top\">8.40945517666e-08</td>\n",
        "    </tr>\n",
        "    <tr>\n",
        "        <td style=\"padding-left: 1em; padding-right: 1em; text-align: center; vertical-align: top\">07560607</td>\n",
        "        <td style=\"padding-left: 1em; padding-right: 1em; text-align: center; vertical-align: top\">89.700586645</td>\n",
        "        <td style=\"padding-left: 1em; padding-right: 1em; text-align: center; vertical-align: top\">8.40944807123e-08</td>\n",
        "    </tr>\n",
        "    <tr>\n",
        "        <td style=\"padding-left: 1em; padding-right: 1em; text-align: center; vertical-align: top\">07700707</td>\n",
        "        <td style=\"padding-left: 1em; padding-right: 1em; text-align: center; vertical-align: top\">85.3968119444</td>\n",
        "        <td style=\"padding-left: 1em; padding-right: 1em; text-align: center; vertical-align: top\">2.84217094304e-14</td>\n",
        "    </tr>\n",
        "    <tr>\n",
        "        <td style=\"padding-left: 1em; padding-right: 1em; text-align: center; vertical-align: top\">07678808</td>\n",
        "        <td style=\"padding-left: 1em; padding-right: 1em; text-align: center; vertical-align: top\">81.9677261863</td>\n",
        "        <td style=\"padding-left: 1em; padding-right: 1em; text-align: center; vertical-align: top\">1.42108547152e-14</td>\n",
        "    </tr>\n",
        "    <tr>\n",
        "        <td style=\"padding-left: 1em; padding-right: 1em; text-align: center; vertical-align: top\">07625794</td>\n",
        "        <td style=\"padding-left: 1em; padding-right: 1em; text-align: center; vertical-align: top\">70.5411585512</td>\n",
        "        <td style=\"padding-left: 1em; padding-right: 1em; text-align: center; vertical-align: top\">6.36287656164e-06</td>\n",
        "    </tr>\n",
        "    <tr>\n",
        "        <td style=\"padding-left: 1em; padding-right: 1em; text-align: center; vertical-align: top\">07624902</td>\n",
        "        <td style=\"padding-left: 1em; padding-right: 1em; text-align: center; vertical-align: top\">62.1967268943</td>\n",
        "        <td style=\"padding-left: 1em; padding-right: 1em; text-align: center; vertical-align: top\">4.4950958511e-08</td>\n",
        "    </tr>\n",
        "    <tr>\n",
        "        <td style=\"padding-left: 1em; padding-right: 1em; text-align: center; vertical-align: top\">...</td>\n",
        "        <td style=\"padding-left: 1em; padding-right: 1em; text-align: center; vertical-align: top\">...</td>\n",
        "        <td style=\"padding-left: 1em; padding-right: 1em; text-align: center; vertical-align: top\">...</td>\n",
        "    </tr>\n",
        "</table>\n",
        "[100 rows x 3 columns]<br/>Note: Only the head of the SFrame is printed.<br/>You can use print_rows(num_rows=m, num_columns=n) to print more rows and columns.\n",
        "</div>"
       ],
       "metadata": {},
       "output_type": "pyout",
       "prompt_number": 16,
       "text": [
        "Columns:\n",
        "\t__id\tstr\n",
        "\tpagerank\tfloat\n",
        "\tdelta\tfloat\n",
        "\n",
        "Rows: 100\n",
        "\n",
        "Data:\n",
        "+----------+---------------+-------------------+\n",
        "|   __id   |    pagerank   |       delta       |\n",
        "+----------+---------------+-------------------+\n",
        "| 07635745 | 129.742438778 |  9.3565034831e-08 |\n",
        "| 07620378 | 109.501197139 | 1.49614129441e-05 |\n",
        "| 07550528 | 91.7152448134 | 9.57859924711e-09 |\n",
        "| 07524910 | 91.2675773914 | 9.57864187967e-09 |\n",
        "| 07579510 |  90.306211645 | 8.40945517666e-08 |\n",
        "| 07560607 |  89.700586645 | 8.40944807123e-08 |\n",
        "| 07700707 | 85.3968119444 | 2.84217094304e-14 |\n",
        "| 07678808 | 81.9677261863 | 1.42108547152e-14 |\n",
        "| 07625794 | 70.5411585512 | 6.36287656164e-06 |\n",
        "| 07624902 | 62.1967268943 |  4.4950958511e-08 |\n",
        "|   ...    |      ...      |        ...        |\n",
        "+----------+---------------+-------------------+\n",
        "[100 rows x 3 columns]\n",
        "Note: Only the head of the SFrame is printed.\n",
        "You can use print_rows(num_rows=m, num_columns=n) to print more rows and columns."
       ]
      }
     ],
     "prompt_number": 16
    },
    {
     "cell_type": "code",
     "collapsed": false,
     "input": [
      "# sf['year'].apply(lambda x: x if len(x) < 4 else x[:4]).unique().sort()"
     ],
     "language": "python",
     "metadata": {},
     "outputs": [
      {
       "metadata": {},
       "output_type": "pyout",
       "prompt_number": 33,
       "text": [
        "dtype: str\n",
        "Rows: 216\n",
        "['0', '100', '1000', '1200', '1700', '1701', '1703', '1705', '1707', '1773', '1774', '1775', '1776', '1777', '1779', '1783', '1788', '1790', '1791', '1792', '1794', '1796', '1800', '1801', '1802', '1803', '1810', '1819', '1821', '1828', '1830', '1833', '1834', '1835', '1836', '1837', '1838', '1839', '1840', '1841', '1842', '1843', '1844', '1845', '1846', '1847', '1848', '1849', '1850', '1851', '1852', '1853', '1854', '1855', '1856', '1857', '1858', '1859', '1860', '1861', '1862', '1863', '1864', '1865', '1866', '1867', '1868', '1869', '1870', '1871', '1872', '1873', '1874', '1875', '1876', '1877', '1878', '1879', '1880', '1881', '1882', '1883', '1884', '1885', '1886', '1887', '1888', '1889', '1890', '1891', '1892', '1893', '1894', '1895', '1896', '1897', '1898', '1899', '1900', '1901', ... ]"
       ]
      }
     ],
     "prompt_number": 33
    },
    {
     "cell_type": "code",
     "collapsed": false,
     "input": [
      "years = [str(x) for x in np.arange(1990, 2010)]"
     ],
     "language": "python",
     "metadata": {},
     "outputs": [],
     "prompt_number": 92
    },
    {
     "cell_type": "code",
     "collapsed": false,
     "input": [
      "sf_years = {}\n",
      "for year in years:\n",
      "    sf_years[year] = sf_joined[sf_joined['GYear'] == year]"
     ],
     "language": "python",
     "metadata": {},
     "outputs": [],
     "prompt_number": 91
    },
    {
     "cell_type": "code",
     "collapsed": false,
     "input": [
      "cite_by_year = {}\n",
      "for year in years:\n",
      "    sf_1y = sf_years[year]\n",
      "    cite_by_year[year] = sf_1y.groupby('Citation', gl.aggregate.COUNT).sort('Count', ascending=False)"
     ],
     "language": "python",
     "metadata": {},
     "outputs": [],
     "prompt_number": 93
    },
    {
     "cell_type": "code",
     "collapsed": false,
     "input": [
      "cite_by_year['1999']"
     ],
     "language": "python",
     "metadata": {},
     "outputs": [
      {
       "html": [
        "<div style=\"max-height:1000px;max-width:1500px;overflow:auto;\"><table frame=\"box\" rules=\"cols\">\n",
        "    <tr>\n",
        "        <th style=\"padding-left: 1em; padding-right: 1em; text-align: center\">Citation</th>\n",
        "        <th style=\"padding-left: 1em; padding-right: 1em; text-align: center\">Count</th>\n",
        "    </tr>\n",
        "    <tr>\n",
        "        <td style=\"padding-left: 1em; padding-right: 1em; text-align: center; vertical-align: top\">04723129</td>\n",
        "        <td style=\"padding-left: 1em; padding-right: 1em; text-align: center; vertical-align: top\">163</td>\n",
        "    </tr>\n",
        "    <tr>\n",
        "        <td style=\"padding-left: 1em; padding-right: 1em; text-align: center; vertical-align: top\">04463359</td>\n",
        "        <td style=\"padding-left: 1em; padding-right: 1em; text-align: center; vertical-align: top\">152</td>\n",
        "    </tr>\n",
        "    <tr>\n",
        "        <td style=\"padding-left: 1em; padding-right: 1em; text-align: center; vertical-align: top\">04740796</td>\n",
        "        <td style=\"padding-left: 1em; padding-right: 1em; text-align: center; vertical-align: top\">150</td>\n",
        "    </tr>\n",
        "    <tr>\n",
        "        <td style=\"padding-left: 1em; padding-right: 1em; text-align: center; vertical-align: top\">04345262</td>\n",
        "        <td style=\"padding-left: 1em; padding-right: 1em; text-align: center; vertical-align: top\">147</td>\n",
        "    </tr>\n",
        "    <tr>\n",
        "        <td style=\"padding-left: 1em; padding-right: 1em; text-align: center; vertical-align: top\">04558333</td>\n",
        "        <td style=\"padding-left: 1em; padding-right: 1em; text-align: center; vertical-align: top\">147</td>\n",
        "    </tr>\n",
        "    <tr>\n",
        "        <td style=\"padding-left: 1em; padding-right: 1em; text-align: center; vertical-align: top\">04313124</td>\n",
        "        <td style=\"padding-left: 1em; padding-right: 1em; text-align: center; vertical-align: top\">146</td>\n",
        "    </tr>\n",
        "    <tr>\n",
        "        <td style=\"padding-left: 1em; padding-right: 1em; text-align: center; vertical-align: top\">04459600</td>\n",
        "        <td style=\"padding-left: 1em; padding-right: 1em; text-align: center; vertical-align: top\">139</td>\n",
        "    </tr>\n",
        "    <tr>\n",
        "        <td style=\"padding-left: 1em; padding-right: 1em; text-align: center; vertical-align: top\">04683202</td>\n",
        "        <td style=\"padding-left: 1em; padding-right: 1em; text-align: center; vertical-align: top\">127</td>\n",
        "    </tr>\n",
        "    <tr>\n",
        "        <td style=\"padding-left: 1em; padding-right: 1em; text-align: center; vertical-align: top\">04683195</td>\n",
        "        <td style=\"padding-left: 1em; padding-right: 1em; text-align: center; vertical-align: top\">126</td>\n",
        "    </tr>\n",
        "    <tr>\n",
        "        <td style=\"padding-left: 1em; padding-right: 1em; text-align: center; vertical-align: top\">05572643</td>\n",
        "        <td style=\"padding-left: 1em; padding-right: 1em; text-align: center; vertical-align: top\">105</td>\n",
        "    </tr>\n",
        "    <tr>\n",
        "        <td style=\"padding-left: 1em; padding-right: 1em; text-align: center; vertical-align: top\">...</td>\n",
        "        <td style=\"padding-left: 1em; padding-right: 1em; text-align: center; vertical-align: top\">...</td>\n",
        "    </tr>\n",
        "</table>\n",
        "[766973 rows x 2 columns]<br/>Note: Only the head of the SFrame is printed.<br/>You can use print_rows(num_rows=m, num_columns=n) to print more rows and columns.\n",
        "</div>"
       ],
       "metadata": {},
       "output_type": "pyout",
       "prompt_number": 94,
       "text": [
        "Columns:\n",
        "\tCitation\tstr\n",
        "\tCount\tint\n",
        "\n",
        "Rows: 766973\n",
        "\n",
        "Data:\n",
        "+----------+-------+\n",
        "| Citation | Count |\n",
        "+----------+-------+\n",
        "| 04723129 |  163  |\n",
        "| 04463359 |  152  |\n",
        "| 04740796 |  150  |\n",
        "| 04345262 |  147  |\n",
        "| 04558333 |  147  |\n",
        "| 04313124 |  146  |\n",
        "| 04459600 |  139  |\n",
        "| 04683202 |  127  |\n",
        "| 04683195 |  126  |\n",
        "| 05572643 |  105  |\n",
        "|   ...    |  ...  |\n",
        "+----------+-------+\n",
        "[766973 rows x 2 columns]\n",
        "Note: Only the head of the SFrame is printed.\n",
        "You can use print_rows(num_rows=m, num_columns=n) to print more rows and columns."
       ]
      }
     ],
     "prompt_number": 94
    },
    {
     "cell_type": "code",
     "collapsed": false,
     "input": [
      "for year in years:\n",
      "    data_sf = cite_by_year[year]\n",
      "    data_sf.save('../data/citation_count_year_%s.csv' % year, format='csv')"
     ],
     "language": "python",
     "metadata": {},
     "outputs": [],
     "prompt_number": 59
    },
    {
     "cell_type": "code",
     "collapsed": false,
     "input": [
      "patent = '04723129'\n"
     ],
     "language": "python",
     "metadata": {},
     "outputs": [],
     "prompt_number": 96
    },
    {
     "cell_type": "code",
     "collapsed": false,
     "input": [
      "c = []\n",
      "for year in years:\n",
      "    data_sf = cite_by_year[year]\n",
      "    print year\n",
      "    cnt = data_sf[data_sf['Citation'] == patent]['Count']\n",
      "    c.append(cnt[0])\n",
      "#     break\n",
      "#     c[year] = data_sf['Count']"
     ],
     "language": "python",
     "metadata": {},
     "outputs": [
      {
       "output_type": "stream",
       "stream": "stdout",
       "text": [
        "1990\n",
        "1991"
       ]
      },
      {
       "output_type": "stream",
       "stream": "stdout",
       "text": [
        "\n",
        "1992"
       ]
      },
      {
       "output_type": "stream",
       "stream": "stdout",
       "text": [
        "\n",
        "1993"
       ]
      },
      {
       "output_type": "stream",
       "stream": "stdout",
       "text": [
        "\n",
        "1994"
       ]
      },
      {
       "output_type": "stream",
       "stream": "stdout",
       "text": [
        "\n",
        "1995"
       ]
      },
      {
       "output_type": "stream",
       "stream": "stdout",
       "text": [
        "\n",
        "1996"
       ]
      },
      {
       "output_type": "stream",
       "stream": "stdout",
       "text": [
        "\n",
        "1997"
       ]
      },
      {
       "output_type": "stream",
       "stream": "stdout",
       "text": [
        "\n",
        "1998"
       ]
      },
      {
       "output_type": "stream",
       "stream": "stdout",
       "text": [
        "\n",
        "1999"
       ]
      },
      {
       "output_type": "stream",
       "stream": "stdout",
       "text": [
        "\n",
        "2000"
       ]
      },
      {
       "output_type": "stream",
       "stream": "stdout",
       "text": [
        "\n",
        "2001"
       ]
      },
      {
       "output_type": "stream",
       "stream": "stdout",
       "text": [
        "\n",
        "2002"
       ]
      },
      {
       "output_type": "stream",
       "stream": "stdout",
       "text": [
        "\n",
        "2003"
       ]
      },
      {
       "output_type": "stream",
       "stream": "stdout",
       "text": [
        "\n",
        "2004"
       ]
      },
      {
       "output_type": "stream",
       "stream": "stdout",
       "text": [
        "\n",
        "2005"
       ]
      },
      {
       "output_type": "stream",
       "stream": "stdout",
       "text": [
        "\n",
        "2006"
       ]
      },
      {
       "output_type": "stream",
       "stream": "stdout",
       "text": [
        "\n",
        "2007"
       ]
      },
      {
       "output_type": "stream",
       "stream": "stdout",
       "text": [
        "\n",
        "2008"
       ]
      },
      {
       "output_type": "stream",
       "stream": "stdout",
       "text": [
        "\n",
        "2009"
       ]
      },
      {
       "output_type": "stream",
       "stream": "stdout",
       "text": [
        "\n"
       ]
      }
     ],
     "prompt_number": 108
    },
    {
     "cell_type": "code",
     "collapsed": false,
     "input": [
      "import matplotlib.pyplot as plt\n",
      "% matplotlib inline"
     ],
     "language": "python",
     "metadata": {},
     "outputs": [],
     "prompt_number": 99
    },
    {
     "cell_type": "code",
     "collapsed": false,
     "input": [
      "x = [int(x) for x in years]\n",
      "y = c\n",
      "print len(x)\n",
      "print len(y)\n",
      "print x\n",
      "print y"
     ],
     "language": "python",
     "metadata": {},
     "outputs": [
      {
       "output_type": "stream",
       "stream": "stdout",
       "text": [
        "20\n",
        "20\n",
        "[1990, 1991, 1992, 1993, 1994, 1995, 1996, 1997, 1998, 1999, 2000, 2001, 2002, 2003, 2004, 2005, 2006, 2007, 2008, 2009]\n",
        "[8, 14, 48, 57, 68, 56, 111, 94, 151, 163, 231, 196, 193, 170, 101, 66, 61, 56, 46, 43]\n"
       ]
      }
     ],
     "prompt_number": 109
    },
    {
     "cell_type": "code",
     "collapsed": false,
     "input": [
      "import plotly.plotly as py\n",
      "from plotly.graph_objs import *\n",
      "\n",
      "trace1 = Bar(\n",
      "    x=x,\n",
      "    y=y\n",
      ")\n",
      "\n",
      "data = Data([trace1])\n",
      "plot_url = py.plot(data, filename='bar-line')"
     ],
     "language": "python",
     "metadata": {},
     "outputs": [],
     "prompt_number": 110
    },
    {
     "cell_type": "code",
     "collapsed": false,
     "input": [
      "sf_years"
     ],
     "language": "python",
     "metadata": {},
     "outputs": [
      {
       "metadata": {},
       "output_type": "pyout",
       "prompt_number": 74,
       "text": [
        "{'1990': Columns:\n",
        " \tPatent\tstr\n",
        " \tCitation\tstr\n",
        " \tyear\tstr\n",
        " \n",
        " Rows: 887830\n",
        " \n",
        " Data:\n",
        " +----------+----------+------+\n",
        " |  Patent  | Citation | year |\n",
        " +----------+----------+------+\n",
        " | 06009555 | 04951316 | 1990 |\n",
        " | 06009557 | 04894866 | 1990 |\n",
        " | 06009558 | 04938753 | 1990 |\n",
        " | 06009558 | 04938754 | 1990 |\n",
        " | 06009558 | 04938757 | 1990 |\n",
        " | 06009558 | 04940464 | 1990 |\n",
        " | 06009566 | 04909459 | 1990 |\n",
        " | 06009566 | 04923147 | 1990 |\n",
        " | 06009567 | 04937892 | 1990 |\n",
        " | 06009569 | 04951324 | 1990 |\n",
        " |   ...    |   ...    | ...  |\n",
        " +----------+----------+------+\n",
        " [887830 rows x 3 columns]\n",
        " Note: Only the head of the SFrame is printed.\n",
        " You can use print_rows(num_rows=m, num_columns=n) to print more rows and columns.,\n",
        " '1991': Columns:\n",
        " \tPatent\tstr\n",
        " \tCitation\tstr\n",
        " \tyear\tstr\n",
        " \n",
        " Rows: 1009660\n",
        " \n",
        " Data:\n",
        " +----------+----------+------+\n",
        " |  Patent  | Citation | year |\n",
        " +----------+----------+------+\n",
        " | 06009557 | 04987611 | 1991 |\n",
        " | 06009561 | 04995117 | 1991 |\n",
        " | 06009561 | 05010598 | 1991 |\n",
        " | 06009561 | 05058212 | 1991 |\n",
        " | 06009562 | 04995117 | 1991 |\n",
        " | 06009562 | 05010598 | 1991 |\n",
        " | 06009562 | 05058212 | 1991 |\n",
        " | 06009564 | 05056156 | 1991 |\n",
        " | 06009565 | 04987613 | 1991 |\n",
        " | 06009565 | 05052052 | 1991 |\n",
        " |   ...    |   ...    | ...  |\n",
        " +----------+----------+------+\n",
        " [1009660 rows x 3 columns]\n",
        " Note: Only the head of the SFrame is printed.\n",
        " You can use print_rows(num_rows=m, num_columns=n) to print more rows and columns.,\n",
        " '1992': Columns:\n",
        " \tPatent\tstr\n",
        " \tCitation\tstr\n",
        " \tyear\tstr\n",
        " \n",
        " Rows: 1136335\n",
        " \n",
        " Data:\n",
        " +----------+----------+------+\n",
        " |  Patent  | Citation | year |\n",
        " +----------+----------+------+\n",
        " | 06009555 | 05105475 | 1992 |\n",
        " | 06009556 | 05083316 | 1992 |\n",
        " | 06009556 | 05162015 | 1992 |\n",
        " | 06009558 | 05114781 | 1992 |\n",
        " | 06009558 | 05116662 | 1992 |\n",
        " | 06009560 | 05095549 | 1992 |\n",
        " | 06009561 | 05083320 | 1992 |\n",
        " | 06009561 | 05083321 | 1992 |\n",
        " | 06009561 | 05086520 | 1992 |\n",
        " | 06009561 | 05093937 | 1992 |\n",
        " |   ...    |   ...    | ...  |\n",
        " +----------+----------+------+\n",
        " [1136335 rows x 3 columns]\n",
        " Note: Only the head of the SFrame is printed.\n",
        " You can use print_rows(num_rows=m, num_columns=n) to print more rows and columns.,\n",
        " '1993': Columns:\n",
        " \tPatent\tstr\n",
        " \tCitation\tstr\n",
        " \tyear\tstr\n",
        " \n",
        " Rows: 1265414\n",
        " \n",
        " Data:\n",
        " +----------+----------+------+\n",
        " |  Patent  | Citation | year |\n",
        " +----------+----------+------+\n",
        " | 06009558 | 05204997 | 1993 |\n",
        " | 06009560 | 05207852 | 1993 |\n",
        " | 06009561 | 05212843 | 1993 |\n",
        " | 06009561 | 05231703 | 1993 |\n",
        " | 06009561 | 05271102 | 1993 |\n",
        " | 06009562 | 05212843 | 1993 |\n",
        " | 06009562 | 05231703 | 1993 |\n",
        " | 06009562 | 05271102 | 1993 |\n",
        " | 06009563 | 05207500 | 1993 |\n",
        " | 06009564 | 05220689 | 1993 |\n",
        " |   ...    |   ...    | ...  |\n",
        " +----------+----------+------+\n",
        " [1265414 rows x 3 columns]\n",
        " Note: Only the head of the SFrame is printed.\n",
        " You can use print_rows(num_rows=m, num_columns=n) to print more rows and columns.,\n",
        " '1994': Columns:\n",
        " \tPatent\tstr\n",
        " \tCitation\tstr\n",
        " \tyear\tstr\n",
        " \n",
        " Rows: 1440144\n",
        " \n",
        " Data:\n",
        " +----------+----------+------+\n",
        " |  Patent  | Citation | year |\n",
        " +----------+----------+------+\n",
        " | 06009561 | 05333328 | 1994 |\n",
        " | 06009561 | 05337421 | 1994 |\n",
        " | 06009561 | 05345614 | 1994 |\n",
        " | 06009562 | 05333328 | 1994 |\n",
        " | 06009562 | 05337421 | 1994 |\n",
        " | 06009562 | 05345614 | 1994 |\n",
        " | 06009563 | 05365615 | 1994 |\n",
        " | 06009564 | 05287562 | 1994 |\n",
        " | 06009564 | 05347323 | 1994 |\n",
        " | 06009565 | 05365610 | 1994 |\n",
        " |   ...    |   ...    | ...  |\n",
        " +----------+----------+------+\n",
        " [1440144 rows x 3 columns]\n",
        " Note: Only the head of the SFrame is printed.\n",
        " You can use print_rows(num_rows=m, num_columns=n) to print more rows and columns.,\n",
        " '1995': Columns:\n",
        " \tPatent\tstr\n",
        " \tCitation\tstr\n",
        " \tyear\tstr\n",
        " \n",
        " Rows: 1530378\n",
        " \n",
        " Data:\n",
        " +----------+----------+------+\n",
        " |  Patent  | Citation | year |\n",
        " +----------+----------+------+\n",
        " | 06009559 | 05383236 | 1995 |\n",
        " | 06009560 | 05406648 | 1995 |\n",
        " | 06009561 | 05388277 | 1995 |\n",
        " | 06009561 | 05388278 | 1995 |\n",
        " | 06009561 | 05448780 | 1995 |\n",
        " | 06009561 | 05450631 | 1995 |\n",
        " | 06009562 | 05388277 | 1995 |\n",
        " | 06009562 | 05388278 | 1995 |\n",
        " | 06009562 | 05448780 | 1995 |\n",
        " | 06009562 | 05450631 | 1995 |\n",
        " |   ...    |   ...    | ...  |\n",
        " +----------+----------+------+\n",
        " [1530378 rows x 3 columns]\n",
        " Note: Only the head of the SFrame is printed.\n",
        " You can use print_rows(num_rows=m, num_columns=n) to print more rows and columns.,\n",
        " '1996': Columns:\n",
        " \tPatent\tstr\n",
        " \tCitation\tstr\n",
        " \tyear\tstr\n",
        " \n",
        " Rows: 1719666\n",
        " \n",
        " Data:\n",
        " +----------+----------+------+\n",
        " |  Patent  | Citation | year |\n",
        " +----------+----------+------+\n",
        " | 06009557 | 05511247 | 1996 |\n",
        " | 06009557 | 05528772 | 1996 |\n",
        " | 06009559 | 05539930 | 1996 |\n",
        " | 06009561 | 05502843 | 1996 |\n",
        " | 06009561 | 05551094 | 1996 |\n",
        " | 06009561 | 05581819 | 1996 |\n",
        " | 06009562 | 05502843 | 1996 |\n",
        " | 06009562 | 05551094 | 1996 |\n",
        " | 06009562 | 05581819 | 1996 |\n",
        " | 06009565 | 05497511 | 1996 |\n",
        " |   ...    |   ...    | ...  |\n",
        " +----------+----------+------+\n",
        " [1719666 rows x 3 columns]\n",
        " Note: Only the head of the SFrame is printed.\n",
        " You can use print_rows(num_rows=m, num_columns=n) to print more rows and columns.,\n",
        " '1997': Columns:\n",
        " \tPatent\tstr\n",
        " \tCitation\tstr\n",
        " \tyear\tstr\n",
        " \n",
        " Rows: 1712164\n",
        " \n",
        " Data:\n",
        " +----------+----------+------+\n",
        " |  Patent  | Citation | year |\n",
        " +----------+----------+------+\n",
        " | 06009557 | 05661853 | 1997 |\n",
        " | 06009557 | 05675839 | 1997 |\n",
        " | 06009560 | 05697101 | 1997 |\n",
        " | 06009560 | 05701606 | 1997 |\n",
        " | 06009561 | 05606784 | 1997 |\n",
        " | 06009561 | 05621923 | 1997 |\n",
        " | 06009561 | 05675843 | 1997 |\n",
        " | 06009561 | 05680656 | 1997 |\n",
        " | 06009562 | 05606784 | 1997 |\n",
        " | 06009562 | 05621923 | 1997 |\n",
        " |   ...    |   ...    | ...  |\n",
        " +----------+----------+------+\n",
        " [1712164 rows x 3 columns]\n",
        " Note: Only the head of the SFrame is printed.\n",
        " You can use print_rows(num_rows=m, num_columns=n) to print more rows and columns.,\n",
        " '1998': Columns:\n",
        " \tPatent\tstr\n",
        " \tCitation\tstr\n",
        " \tyear\tstr\n",
        " \n",
        " Rows: 2158840\n",
        " \n",
        " Data:\n",
        " +----------+----------+------+\n",
        " |  Patent  | Citation | year |\n",
        " +----------+----------+------+\n",
        " | 06009557 | 05732413 | 1998 |\n",
        " | 06009559 | 05790987 | 1998 |\n",
        " | 06009561 | 05724681 | 1998 |\n",
        " | 06009562 | 05724681 | 1998 |\n",
        " | 06009564 | 05802622 | 1998 |\n",
        " | 06009564 | 05815848 | 1998 |\n",
        " | 06009566 | 05715541 | 1998 |\n",
        " | 06009573 | 05734999 | 1998 |\n",
        " | 06009578 | 05737788 | 1998 |\n",
        " | 06009579 | 05732424 | 1998 |\n",
        " |   ...    |   ...    | ...  |\n",
        " +----------+----------+------+\n",
        " [2158840 rows x 3 columns]\n",
        " Note: Only the head of the SFrame is printed.\n",
        " You can use print_rows(num_rows=m, num_columns=n) to print more rows and columns.,\n",
        " '1999': Columns:\n",
        " \tPatent\tstr\n",
        " \tCitation\tstr\n",
        " \tyear\tstr\n",
        " \n",
        " Rows: 2085112\n",
        " \n",
        " Data:\n",
        " +----------+----------+------+\n",
        " |  Patent  | Citation | year |\n",
        " +----------+----------+------+\n",
        " | 06009560 | 05860163 | 1999 |\n",
        " | 06009579 | 05860174 | 1999 |\n",
        " | 06009581 | 05870786 | 1999 |\n",
        " | 06009585 | 05937675 | 1999 |\n",
        " | 06009590 | 05884513 | 1999 |\n",
        " | 06009597 | 05895089 | 1999 |\n",
        " | 06009614 | 05860966 | 1999 |\n",
        " | 06009614 | 05893852 | 1999 |\n",
        " | 06009632 | 05872713 | 1999 |\n",
        " | 06009632 | 05912134 | 1999 |\n",
        " |   ...    |   ...    | ...  |\n",
        " +----------+----------+------+\n",
        " [2085112 rows x 3 columns]\n",
        " Note: Only the head of the SFrame is printed.\n",
        " You can use print_rows(num_rows=m, num_columns=n) to print more rows and columns.,\n",
        " '2000': Columns:\n",
        " \tPatent\tstr\n",
        " \tCitation\tstr\n",
        " \tyear\tstr\n",
        " \n",
        " Rows: 1978286\n",
        " \n",
        " Data:\n",
        " +----------+----------+------+\n",
        " |  Patent  | Citation | year |\n",
        " +----------+----------+------+\n",
        " | 06046108 | 05821168 | 2000 |\n",
        " | 06046108 | 06010962 | 2000 |\n",
        " | 06048787 | 06010962 | 2000 |\n",
        " | 06050947 | 06010456 | 2000 |\n",
        " | 06051900 | 06011333 | 2000 |\n",
        " | 06056576 | 06022236 | 2000 |\n",
        " | 06056633 | 06011630 | 2000 |\n",
        " | 06057573 | 05990507 | 2000 |\n",
        " | 06057573 | 06018195 | 2000 |\n",
        " | 06057581 | 06010935 | 2000 |\n",
        " |   ...    |   ...    | ...  |\n",
        " +----------+----------+------+\n",
        " [1978286 rows x 3 columns]\n",
        " Note: Only the head of the SFrame is printed.\n",
        " You can use print_rows(num_rows=m, num_columns=n) to print more rows and columns.,\n",
        " '2001': Columns:\n",
        " \tPatent\tstr\n",
        " \tCitation\tstr\n",
        " \tyear\tstr\n",
        " \n",
        " Rows: 1925128\n",
        " \n",
        " Data:\n",
        " +----------+----------+------+\n",
        " |  Patent  | Citation | year |\n",
        " +----------+----------+------+\n",
        " | 06219611 | 06170475 | 2001 |\n",
        " | 06219855 | 06170715 | 2001 |\n",
        " | 06220354 | 06173778 | 2001 |\n",
        " | 06221096 | 06168616 | 2001 |\n",
        " | 06222236 | 06169312 | 2001 |\n",
        " | 06224737 | 06168704 | 2001 |\n",
        " | 06225808 | 06172483 | 2001 |\n",
        " | 06225808 | 06172505 | 2001 |\n",
        " | 06226366 | 06169891 | 2001 |\n",
        " | 06226473 | 06181894 | 2001 |\n",
        " |   ...    |   ...    | ...  |\n",
        " +----------+----------+------+\n",
        " [1925128 rows x 3 columns]\n",
        " Note: Only the head of the SFrame is printed.\n",
        " You can use print_rows(num_rows=m, num_columns=n) to print more rows and columns.,\n",
        " '2002': Columns:\n",
        " \tPatent\tstr\n",
        " \tCitation\tstr\n",
        " \tyear\tstr\n",
        " \n",
        " Rows: 1901859\n",
        " \n",
        " Data:\n",
        " +----------+----------+------+\n",
        " |  Patent  | Citation | year |\n",
        " +----------+----------+------+\n",
        " | 06368962 | 06337274 | 2002 |\n",
        " | 06370205 | 06337855 | 2002 |\n",
        " | 06370880 | 06341486 | 2002 |\n",
        " | 06371623 | 06334691 | 2002 |\n",
        " | 06373173 | 06334800 | 2002 |\n",
        " | 06374689 | 06334368 | 2002 |\n",
        " | 06374862 | 06334922 | 2002 |\n",
        " | 06376443 | 06338855 | 2002 |\n",
        " | 06376964 | 06335847 | 2002 |\n",
        " | 06377309 | 06336155 | 2002 |\n",
        " |   ...    |   ...    | ...  |\n",
        " +----------+----------+------+\n",
        " [1901859 rows x 3 columns]\n",
        " Note: Only the head of the SFrame is printed.\n",
        " You can use print_rows(num_rows=m, num_columns=n) to print more rows and columns.,\n",
        " '2003': Columns:\n",
        " \tPatent\tstr\n",
        " \tCitation\tstr\n",
        " \tyear\tstr\n",
        " \n",
        " Rows: 1633190\n",
        " \n",
        " Data:\n",
        " +----------+----------+------+\n",
        " |  Patent  | Citation | year |\n",
        " +----------+----------+------+\n",
        " | 06547158 | 06505995 | 2003 |\n",
        " | 06550127 | 06502808 | 2003 |\n",
        " | 06550407 | 06502521 | 2003 |\n",
        " | 06550586 | 06502668 | 2003 |\n",
        " | 06550586 | 06508334 | 2003 |\n",
        " | 06550801 | 06503018 | 2003 |\n",
        " | 06550809 | 06502853 | 2003 |\n",
        " | 06552865 | 06512404 | 2003 |\n",
        " | 06552865 | 06519103 | 2003 |\n",
        " | 06552865 | 06525613 | 2003 |\n",
        " |   ...    |   ...    | ...  |\n",
        " +----------+----------+------+\n",
        " [1633190 rows x 3 columns]\n",
        " Note: Only the head of the SFrame is printed.\n",
        " You can use print_rows(num_rows=m, num_columns=n) to print more rows and columns.,\n",
        " '2004': Columns:\n",
        " \tPatent\tstr\n",
        " \tCitation\tstr\n",
        " \tyear\tstr\n",
        " \n",
        " Rows: 1268965\n",
        " \n",
        " Data:\n",
        " +----------+----------+------+\n",
        " |  Patent  | Citation | year |\n",
        " +----------+----------+------+\n",
        " | 06714542 | 06678272 | 2004 |\n",
        " | 06714542 | 06678276 | 2004 |\n",
        " | 06715039 | 06678805 | 2004 |\n",
        " | 06717837 | 06690599 | 2004 |\n",
        " | 06719643 | 06672975 | 2004 |\n",
        " | 06721957 | 06675387 | 2004 |\n",
        " | 06722323 | 06672982 | 2004 |\n",
        " | 06725051 | 06677895 | 2004 |\n",
        " | 06727855 | 06677901 | 2004 |\n",
        " | 06727930 | 06677964 | 2004 |\n",
        " |   ...    |   ...    | ...  |\n",
        " +----------+----------+------+\n",
        " [1268965 rows x 3 columns]\n",
        " Note: Only the head of the SFrame is printed.\n",
        " You can use print_rows(num_rows=m, num_columns=n) to print more rows and columns.,\n",
        " '2005': Columns:\n",
        " \tPatent\tstr\n",
        " \tCitation\tstr\n",
        " \tyear\tstr\n",
        " \n",
        " Rows: 821102\n",
        " \n",
        " Data:\n",
        " +----------+-------------+------+\n",
        " |  Patent  |   Citation  | year |\n",
        " +----------+-------------+------+\n",
        " | 06878145 |  WO 0119454 | 2005 |\n",
        " | 06880254 |   06837116  | 2005 |\n",
        " | 06884227 |   06843776  | 2005 |\n",
        " | 06885643 |   06845090  | 2005 |\n",
        " | 06888181 |   06838322  | 2005 |\n",
        " | 06892128 | 20050000479 | 2005 |\n",
        " | 06892128 | 20050003926 | 2005 |\n",
        " | 06892638 |   06843173  | 2005 |\n",
        " | 06894677 |   06846377  | 2005 |\n",
        " | 06894677 |   06847347  | 2005 |\n",
        " |   ...    |     ...     | ...  |\n",
        " +----------+-------------+------+\n",
        " [821102 rows x 3 columns]\n",
        " Note: Only the head of the SFrame is printed.\n",
        " You can use print_rows(num_rows=m, num_columns=n) to print more rows and columns.,\n",
        " '2006': Columns:\n",
        " \tPatent\tstr\n",
        " \tCitation\tstr\n",
        " \tyear\tstr\n",
        " \n",
        " Rows: 568548\n",
        " \n",
        " Data:\n",
        " +----------+--------------+------+\n",
        " |  Patent  |   Citation   | year |\n",
        " +----------+--------------+------+\n",
        " | 07021452 |  2 364 216   | 2006 |\n",
        " | 07024788 |   01597357   | 2006 |\n",
        " | 07025315 | 2006/0000957 | 2006 |\n",
        " | 07030865 |   06995741   | 2006 |\n",
        " | 07030865 |   07006070   | 2006 |\n",
        " | 07031518 |   06983076   | 2006 |\n",
        " | 07031518 |   06987882   | 2006 |\n",
        " | 07032639 |   06986716   | 2006 |\n",
        " | 07034223 | 2006/0005992 | 2006 |\n",
        " | 07035275 |   06987770   | 2006 |\n",
        " |   ...    |     ...      | ...  |\n",
        " +----------+--------------+------+\n",
        " [568548 rows x 3 columns]\n",
        " Note: Only the head of the SFrame is printed.\n",
        " You can use print_rows(num_rows=m, num_columns=n) to print more rows and columns.,\n",
        " '2007': Columns:\n",
        " \tPatent\tstr\n",
        " \tCitation\tstr\n",
        " \tyear\tstr\n",
        " \n",
        " Rows: 302800\n",
        " \n",
        " Data:\n",
        " +----------+--------------+------+\n",
        " |  Patent  |   Citation   | year |\n",
        " +----------+--------------+------+\n",
        " | 07186005 |   07157839   | 2007 |\n",
        " | 07187781 |   07159117   | 2007 |\n",
        " | 07188389 |  1 181 886   | 2007 |\n",
        " | 07189263 |   07156880   | 2007 |\n",
        " | 07189263 |   07166133   | 2007 |\n",
        " | 07195738 | 2007/0004019 | 2007 |\n",
        " | 07196955 |   07161875   | 2007 |\n",
        " | 07197890 |   07160088   | 2007 |\n",
        " | 07203109 |   07167399   | 2007 |\n",
        " | 07203117 |   07158435   | 2007 |\n",
        " |   ...    |     ...      | ...  |\n",
        " +----------+--------------+------+\n",
        " [302800 rows x 3 columns]\n",
        " Note: Only the head of the SFrame is printed.\n",
        " You can use print_rows(num_rows=m, num_columns=n) to print more rows and columns.,\n",
        " '2008': Columns:\n",
        " \tPatent\tstr\n",
        " \tCitation\tstr\n",
        " \tyear\tstr\n",
        " \n",
        " Rows: 126795\n",
        " \n",
        " Data:\n",
        " +----------+--------------+------+\n",
        " |  Patent  |   Citation   | year |\n",
        " +----------+--------------+------+\n",
        " | 07353615 |   07318283   | 2008 |\n",
        " | 07356159 | 2002 044429  | 2008 |\n",
        " | 07358603 | 2008/0001271 | 2008 |\n",
        " | 07359339 |   07319664   | 2008 |\n",
        " | 07360710 |   07316357   | 2008 |\n",
        " | 07362924 | 2008/0002926 | 2008 |\n",
        " | 07363181 |   07318285   | 2008 |\n",
        " | 07363250 |   07315826   | 2008 |\n",
        " | 07364470 |   07314393   | 2008 |\n",
        " | 07364961 |   07315075   | 2008 |\n",
        " |   ...    |     ...      | ...  |\n",
        " +----------+--------------+------+\n",
        " [126795 rows x 3 columns]\n",
        " Note: Only the head of the SFrame is printed.\n",
        " You can use print_rows(num_rows=m, num_columns=n) to print more rows and columns.,\n",
        " '2009': Columns:\n",
        " \tPatent\tstr\n",
        " \tCitation\tstr\n",
        " \tyear\tstr\n",
        " \n",
        " Rows: 15582\n",
        " \n",
        " Data:\n",
        " +----------+--------------+------+\n",
        " |  Patent  |   Citation   | year |\n",
        " +----------+--------------+------+\n",
        " | 07491304 |  061095241   | 2009 |\n",
        " | 07507874 | WO 99/13964  | 2009 |\n",
        " | 07508324 |   07477238   | 2009 |\n",
        " | 07510045 |   07472773   | 2009 |\n",
        " | 07511267 |   07476854   | 2009 |\n",
        " | 07511947 |   07477515   | 2009 |\n",
        " | 07512791 | 2009/0002150 | 2009 |\n",
        " | 07512791 | 2009/0016357 | 2009 |\n",
        " | 07514893 |   07482775   | 2009 |\n",
        " | 07516720 | 2009/0008466 | 2009 |\n",
        " |   ...    |     ...      | ...  |\n",
        " +----------+--------------+------+\n",
        " [15582 rows x 3 columns]\n",
        " Note: Only the head of the SFrame is printed.\n",
        " You can use print_rows(num_rows=m, num_columns=n) to print more rows and columns.,\n",
        " '2010': Columns:\n",
        " \tPatent\tstr\n",
        " \tCitation\tstr\n",
        " \tyear\tstr\n",
        " \n",
        " Rows: 0\n",
        " \n",
        " Data:\n",
        " \t[]}"
       ]
      }
     ],
     "prompt_number": 74
    },
    {
     "cell_type": "code",
     "collapsed": false,
     "input": [],
     "language": "python",
     "metadata": {},
     "outputs": [
      {
       "html": [
        "<pre>PROGRESS: Finished parsing file /Users/youngstone/Documents/Capstone-Project/Hunting4Patents/data/patent_GYear.csv</pre>"
       ],
       "metadata": {},
       "output_type": "display_data",
       "text": [
        "PROGRESS: Finished parsing file /Users/youngstone/Documents/Capstone-Project/Hunting4Patents/data/patent_GYear.csv"
       ]
      },
      {
       "html": [
        "<pre>PROGRESS: Parsing completed. Parsed 100 lines in 0.898934 secs.</pre>"
       ],
       "metadata": {},
       "output_type": "display_data",
       "text": [
        "PROGRESS: Parsing completed. Parsed 100 lines in 0.898934 secs."
       ]
      },
      {
       "output_type": "stream",
       "stream": "stdout",
       "text": [
        "------------------------------------------------------\n",
        "Inferred types from first line of file as \n",
        "column_type_hints=[int,int]\n",
        "If parsing fails due to incorrect types, you can correct\n",
        "the inferred type list above and pass it to read_csv in\n",
        "the column_type_hints argument\n",
        "------------------------------------------------------\n",
        "Unable to parse the file with automatic type inference."
       ]
      },
      {
       "html": [
        "<pre>PROGRESS: Read 3744914 lines. Lines per second: 2.20687e+06</pre>"
       ],
       "metadata": {},
       "output_type": "display_data",
       "text": [
        "PROGRESS: Read 3744914 lines. Lines per second: 2.20687e+06"
       ]
      },
      {
       "html": [
        "<pre>PROGRESS: Finished parsing file /Users/youngstone/Documents/Capstone-Project/Hunting4Patents/data/patent_GYear.csv</pre>"
       ],
       "metadata": {},
       "output_type": "display_data",
       "text": [
        "PROGRESS: Finished parsing file /Users/youngstone/Documents/Capstone-Project/Hunting4Patents/data/patent_GYear.csv"
       ]
      },
      {
       "html": [
        "<pre>PROGRESS: Parsing completed. Parsed 4823407 lines in 1.94871 secs.</pre>"
       ],
       "metadata": {},
       "output_type": "display_data",
       "text": [
        "PROGRESS: Parsing completed. Parsed 4823407 lines in 1.94871 secs."
       ]
      },
      {
       "output_type": "stream",
       "stream": "stdout",
       "text": [
        "\n",
        "Defaulting to column_type_hints=str\n"
       ]
      }
     ],
     "prompt_number": 78
    },
    {
     "cell_type": "code",
     "collapsed": false,
     "input": [
      "sf_pat_yr"
     ],
     "language": "python",
     "metadata": {},
     "outputs": [
      {
       "html": [
        "<div style=\"max-height:1000px;max-width:1500px;overflow:auto;\"><table frame=\"box\" rules=\"cols\">\n",
        "    <tr>\n",
        "        <th style=\"padding-left: 1em; padding-right: 1em; text-align: center\">Patent</th>\n",
        "        <th style=\"padding-left: 1em; padding-right: 1em; text-align: center\">GYear</th>\n",
        "    </tr>\n",
        "    <tr>\n",
        "        <td style=\"padding-left: 1em; padding-right: 1em; text-align: center; vertical-align: top\">03858241</td>\n",
        "        <td style=\"padding-left: 1em; padding-right: 1em; text-align: center; vertical-align: top\">1975</td>\n",
        "    </tr>\n",
        "    <tr>\n",
        "        <td style=\"padding-left: 1em; padding-right: 1em; text-align: center; vertical-align: top\">03858242</td>\n",
        "        <td style=\"padding-left: 1em; padding-right: 1em; text-align: center; vertical-align: top\">1975</td>\n",
        "    </tr>\n",
        "    <tr>\n",
        "        <td style=\"padding-left: 1em; padding-right: 1em; text-align: center; vertical-align: top\">03858243</td>\n",
        "        <td style=\"padding-left: 1em; padding-right: 1em; text-align: center; vertical-align: top\">1975</td>\n",
        "    </tr>\n",
        "    <tr>\n",
        "        <td style=\"padding-left: 1em; padding-right: 1em; text-align: center; vertical-align: top\">03858244</td>\n",
        "        <td style=\"padding-left: 1em; padding-right: 1em; text-align: center; vertical-align: top\">1975</td>\n",
        "    </tr>\n",
        "    <tr>\n",
        "        <td style=\"padding-left: 1em; padding-right: 1em; text-align: center; vertical-align: top\">03858245</td>\n",
        "        <td style=\"padding-left: 1em; padding-right: 1em; text-align: center; vertical-align: top\">1975</td>\n",
        "    </tr>\n",
        "    <tr>\n",
        "        <td style=\"padding-left: 1em; padding-right: 1em; text-align: center; vertical-align: top\">03858246</td>\n",
        "        <td style=\"padding-left: 1em; padding-right: 1em; text-align: center; vertical-align: top\">1975</td>\n",
        "    </tr>\n",
        "    <tr>\n",
        "        <td style=\"padding-left: 1em; padding-right: 1em; text-align: center; vertical-align: top\">03858247</td>\n",
        "        <td style=\"padding-left: 1em; padding-right: 1em; text-align: center; vertical-align: top\">1975</td>\n",
        "    </tr>\n",
        "    <tr>\n",
        "        <td style=\"padding-left: 1em; padding-right: 1em; text-align: center; vertical-align: top\">03858248</td>\n",
        "        <td style=\"padding-left: 1em; padding-right: 1em; text-align: center; vertical-align: top\">1975</td>\n",
        "    </tr>\n",
        "    <tr>\n",
        "        <td style=\"padding-left: 1em; padding-right: 1em; text-align: center; vertical-align: top\">03858249</td>\n",
        "        <td style=\"padding-left: 1em; padding-right: 1em; text-align: center; vertical-align: top\">1975</td>\n",
        "    </tr>\n",
        "    <tr>\n",
        "        <td style=\"padding-left: 1em; padding-right: 1em; text-align: center; vertical-align: top\">03858250</td>\n",
        "        <td style=\"padding-left: 1em; padding-right: 1em; text-align: center; vertical-align: top\">1975</td>\n",
        "    </tr>\n",
        "    <tr>\n",
        "        <td style=\"padding-left: 1em; padding-right: 1em; text-align: center; vertical-align: top\">...</td>\n",
        "        <td style=\"padding-left: 1em; padding-right: 1em; text-align: center; vertical-align: top\">...</td>\n",
        "    </tr>\n",
        "</table>\n",
        "[4823407 rows x 2 columns]<br/>Note: Only the head of the SFrame is printed.<br/>You can use print_rows(num_rows=m, num_columns=n) to print more rows and columns.\n",
        "</div>"
       ],
       "metadata": {},
       "output_type": "pyout",
       "prompt_number": 79,
       "text": [
        "Columns:\n",
        "\tPatent\tstr\n",
        "\tGYear\tstr\n",
        "\n",
        "Rows: 4823407\n",
        "\n",
        "Data:\n",
        "+----------+-------+\n",
        "|  Patent  | GYear |\n",
        "+----------+-------+\n",
        "| 03858241 |  1975 |\n",
        "| 03858242 |  1975 |\n",
        "| 03858243 |  1975 |\n",
        "| 03858244 |  1975 |\n",
        "| 03858245 |  1975 |\n",
        "| 03858246 |  1975 |\n",
        "| 03858247 |  1975 |\n",
        "| 03858248 |  1975 |\n",
        "| 03858249 |  1975 |\n",
        "| 03858250 |  1975 |\n",
        "|   ...    |  ...  |\n",
        "+----------+-------+\n",
        "[4823407 rows x 2 columns]\n",
        "Note: Only the head of the SFrame is printed.\n",
        "You can use print_rows(num_rows=m, num_columns=n) to print more rows and columns."
       ]
      }
     ],
     "prompt_number": 79
    },
    {
     "cell_type": "code",
     "collapsed": false,
     "input": [],
     "language": "python",
     "metadata": {},
     "outputs": []
    }
   ],
   "metadata": {}
  }
 ]
}