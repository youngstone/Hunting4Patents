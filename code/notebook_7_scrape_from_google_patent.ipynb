{
 "metadata": {
  "name": "",
  "signature": "sha256:945c3970d883f95f033bc7ad06e48699ba7de8822418dbe2a11e583118fe8f95"
 },
 "nbformat": 3,
 "nbformat_minor": 0,
 "worksheets": [
  {
   "cells": [
    {
     "cell_type": "code",
     "collapsed": false,
     "input": [
      "import requests\n",
      "import bs4\n",
      "import json\n",
      "from pymongo import MongoClient\n",
      "from pymongo.errors import DuplicateKeyError, CollectionInvalid\n",
      "import datetime as dt\n",
      "from bs4 import BeautifulSoup\n",
      "import re\n",
      "from dateutil.parser import parse\n",
      "from bson.son import SON\n",
      "import pandas as pd\n",
      "import pickle"
     ],
     "language": "python",
     "metadata": {},
     "outputs": [],
     "prompt_number": 1
    },
    {
     "cell_type": "raw",
     "metadata": {},
     "source": [
      "patent-tabular-section\n",
      "\n",
      "backward-citations\n",
      "npl-citations\n",
      "forward-citations\n",
      "classifications\n",
      "legal-events"
     ]
    },
    {
     "cell_type": "code",
     "collapsed": false,
     "input": [
      "tab_features = ['backward-citations',\n",
      "                'npl-citations',\n",
      "                'forward-citations',\n",
      "                'classifications',\n",
      "                'legal-events']"
     ],
     "language": "python",
     "metadata": {},
     "outputs": [],
     "prompt_number": 77
    },
    {
     "cell_type": "code",
     "collapsed": false,
     "input": [
      "url = 'https://www.google.com/patents/US7897356'\n",
      "\n",
      "response = requests.get(url)\n",
      "if response.status_code == 200:\n",
      "    html = response.content\n",
      "    soup = BeautifulSoup(html, 'html.parser')\n",
      "    print len(soup)\n",
      "    content = soup.find_all('div',\n",
      "                            class_='patent-section patent-tabular-section')\n",
      "    for con in content:\n",
      "        subject = con.find('a')['id']\n",
      "        print subject\n",
      "        if subject == 'backward-citations':\n",
      "            tr = con.find_all('tr') \n",
      "#             print len(tr)\n",
      "            for tds in tr:\n",
      "                td = tds.find_all('td')\n",
      "#                 print len(td)\n",
      "                for col, item in enumerate(td):\n",
      "                    entry = item.get_text()\n",
      "#                     print entry\n",
      "                \n",
      "#             print tr.find('td', class_=\"patent-data-table-td patent-date-value\")\n",
      "                \n",
      "        elif subject == 'npl-citations':\n",
      "            print subject\n",
      "            pass\n",
      "        elif subject == 'forward-citations':\n",
      "            print subject\n",
      "            pass\n",
      "        elif subject == 'classifications':\n",
      "            print subject\n",
      "            pass\n",
      "        elif subject == 'legal-events':\n",
      "            print subject\n",
      "            pass\n",
      "        \n",
      "        print 'dfad'\n",
      "#         print con\n",
      "#         a = con.find('a')\n",
      "#         print a\n",
      "#     for con in content:\n",
      "#         print\n",
      "#         print con\n",
      "    \n",
      "\n"
     ],
     "language": "python",
     "metadata": {},
     "outputs": [
      {
       "output_type": "stream",
       "stream": "stdout",
       "text": [
        "2\n",
        "backward-citations"
       ]
      },
      {
       "output_type": "stream",
       "stream": "stdout",
       "text": [
        "\n",
        "dfad\n",
        "npl-citations\n",
        "npl-citations\n",
        "dfad\n",
        "forward-citations\n",
        "forward-citations\n",
        "dfad\n",
        "classifications\n",
        "classifications\n",
        "dfad\n",
        "legal-events\n",
        "legal-events\n",
        "dfad\n"
       ]
      }
     ],
     "prompt_number": 107
    },
    {
     "cell_type": "code",
     "collapsed": false,
     "input": [
      "url = 'https://www.google.com/patents/US20120054936'\n",
      "response = requests.get(url)\n",
      "if response.status_code == 200:\n",
      "    html = response.content\n",
      "    soup = BeautifulSoup(html, 'html.parser')\n",
      "    print len(soup)\n",
      "    content = soup.find_all('div', class_='patent-section patent-tabular-section')\n",
      "    for con in content:\n",
      "        a = con.find('a')\n",
      "        print a\n",
      "#     for con in content:\n",
      "#         print\n",
      "#         print con\n",
      "    \n",
      "\n"
     ],
     "language": "python",
     "metadata": {},
     "outputs": [
      {
       "output_type": "stream",
       "stream": "stdout",
       "text": [
        "2\n",
        "<a id=\"backward-citations\"></a>\n",
        "<a id=\"classifications\"></a>\n"
       ]
      }
     ],
     "prompt_number": 104
    },
    {
     "cell_type": "code",
     "collapsed": false,
     "input": [
      "# url = 'https://www.google.com/patents/US7462489'\n",
      "url = 'https://www.google.com/patents/US7897356'\n",
      "\n",
      "patent_tab_features = {x: {} for x in tab_features}\n",
      "\n",
      "\n",
      "response = requests.get(url)\n",
      "if response.status_code == 200:\n",
      "    html = response.content\n",
      "    soup = BeautifulSoup(html, 'html.parser')\n",
      "#     print len(soup)\n",
      "    content = soup.find_all('div',\n",
      "                            class_='patent-section patent-tabular-section')\n",
      "    for con in content:\n",
      "        subject = con.find('a')['id']\n",
      "        if subject == 'backward-citations':\n",
      "            rows = con.find_all('tr') \n",
      "#             print 'number of citaitons:', len(rows)\n",
      "            for row in rows:\n",
      "                cols = row.find_all('td')\n",
      "#                 print \n",
      "                for col_num, cell in enumerate(cols):\n",
      "#                     print cell\n",
      "#                     print\n",
      "                    entry = cell.get_text()\n",
      "                    if col_num == 0:\n",
      "                        pat = entry\n",
      "                        if pat[-1] == '*':\n",
      "#                             print pat\n",
      "#                             print \"cited by examiner\"\n",
      "#                             print '==' + pat[:-1].strip() + '=='\n",
      "                            pat = pat[:-1].strip()\n",
      "                            patent_tab_features['backward-citations'][pat] = {}\n",
      "                            patent_tab_features['backward-citations'][pat]['cited-by-examiner'] = 1\n",
      "                        else:\n",
      "                            pat = entry\n",
      "                            patent_tab_features['backward-citations'][pat] = {}\n",
      "                            patent_tab_features['backward-citations'][pat]['cited-by-examiner'] = 0\n",
      "                    elif col_num == 2:\n",
      "                        date = entry\n",
      "                        patent_tab_features['backward-citations'][pat]['cited-date'] = date\n",
      "\n",
      "#                 print patent_tab_features['backward-citations']                        \n",
      "#                 print '================'\n",
      "#                     print len(entry)\n",
      "#                     print '=' + '+'.join(entry) + '='\n",
      "#                     print entry\n",
      "                \n",
      "#             print tr.find('td', class_=\"patent-data-table-td patent-date-value\")\n",
      "                \n",
      "        elif subject == 'npl-citations':\n",
      "            rows = con.find_all('tr') \n",
      "            print len(rows) - 1\n",
      "            pass\n",
      "        elif subject == 'forward-citations':\n",
      "            rows = con.find_all('tr') \n",
      "            for row in rows:\n",
      "                cols = row.find_all('td')\n",
      "#                 print \n",
      "                for col_num, cell in enumerate(cols):\n",
      "#                     print cell\n",
      "#                     print\n",
      "                    entry = cell.get_text()\n",
      "                    if col_num == 0:\n",
      "                        pat = entry\n",
      "                        if pat[-1] == '*':\n",
      "#                             print pat\n",
      "#                             print \"cited by examiner\"\n",
      "#                             print '==' + pat[:-1].strip() + '=='\n",
      "                            pat = pat[:-1].strip()\n",
      "                            patent_tab_features['forward-citations'][pat] = {}\n",
      "                            patent_tab_features['forward-citations'][pat]['cited-by-examiner'] = 1\n",
      "                        else:\n",
      "                            pat = entry\n",
      "                            patent_tab_features['forward-citations'][pat] = {}\n",
      "                            patent_tab_features['forward-citations'][pat]['cited-by-examiner'] = 0\n",
      "                    elif col_num == 2:\n",
      "                        date = entry\n",
      "                        patent_tab_features['forward-citations'][pat]['cited-date'] = date\n",
      "\n",
      "#             print patent_tab_features\n",
      "#             print len(patent_tab_features)\n",
      "#             print len(patent_tab_features['forward-citations'])\n",
      "#             print len(patent_tab_features['backward-citations'])\n",
      "#             print '================'\n",
      "\n",
      "        elif subject == 'classifications':\n",
      "            pass\n",
      "        elif subject == 'legal-events':\n",
      "            rows = con.find_all('tr') \n",
      "            for row in rows:\n",
      "#                 cols = row.find_all('td')\n",
      "                cols = [x.text for x in row]\n",
      "                patent_tab_features['legal-events'] = {}\n",
      "                print cols\n",
      "#                 print \n",
      "#                 for col_num, cell in enumerate(cols):\n",
      "#                     \n",
      "#             print patent_tab_features\n",
      "#             print len(patent_tab_features)\n",
      "#             print len(patent_tab_features['forward-citations'])\n",
      "#             print len(patent_tab_features['backward-citations'])\n",
      "#             print len(patent_tab_features['legal-events'])\n",
      "#             print '================'\n",
      "\n",
      "            pass\n",
      "        \n",
      "        print 'dfad'"
     ],
     "language": "python",
     "metadata": {},
     "outputs": [
      {
       "output_type": "stream",
       "stream": "stdout",
       "text": [
        "dfad\n",
        "184\n",
        "dfad\n",
        "dfad\n",
        "dfad\n",
        "[u'Date', u'Code', u'Event', u'Description']\n",
        "[u'Oct 20, 2014', u'AS', u'Assignment', u'Effective date: 20131010Owner name: CARIS LIFE SCIENCES SWITZERLAND HOLDINGS GMBH, SWIFree format text: CHANGE OF NAME;ASSIGNOR:CARIS LIFE SCIENCES LUXEMBOURG HOLDINGS, S.A.R.L.;REEL/FRAME:033983/0910']\n",
        "[u'Aug 6, 2014', u'FPAY', u'Fee payment', u'Year of fee payment: 4']\n",
        "[u'Feb 6, 2012', u'AS', u'Assignment', u'Free format text: ASSIGNMENT OF ASSIGNORS INTEREST;ASSIGNORS:KLASS, MICHAEL;KUSLICH, CHRISTINE;POSTE, GEORGE;AND OTHERS;SIGNING DATES FROM 20091209 TO 20120206;REEL/FRAME:027658/0837Owner name: CARIS LIFE SCIENCES LUXEMBOURG HOLDINGS, S.A.R.L.,']\n",
        "[u'Jun 15, 2010', u'AS', u'Assignment', u'Owner name: CARIS MPI, INC.,ARIZONAFree format text: ASSIGNMENT OF ASSIGNORS INTEREST;ASSIGNORS:KLASS, MICHAEL;KUSLICH, CHRISTINE;POSTE, GEORGE;SIGNED BETWEEN 20091209 AND 20091210;REEL/FRAME:24540/420Owner name: CARIS MPI, INC., ARIZONAFree format text: ASSIGNMENT OF ASSIGNORS INTEREST;ASSIGNORS:KLASS, MICHAEL;KUSLICH, CHRISTINE;POSTE, GEORGE;SIGNING DATES FROM 20091209 TO 20091210;REEL/FRAME:024540/0420']\n",
        "dfad\n"
       ]
      }
     ],
     "prompt_number": 120
    },
    {
     "cell_type": "code",
     "collapsed": false,
     "input": [
      "print patent_tab_features"
     ],
     "language": "python",
     "metadata": {},
     "outputs": [
      {
       "output_type": "stream",
       "stream": "stdout",
       "text": [
        "{'legal-events': {}, 'classifications': {}, 'forward-citations': {}, 'backward-citations': {}, 'npl-citations': {}}\n"
       ]
      }
     ],
     "prompt_number": 79
    },
    {
     "cell_type": "code",
     "collapsed": false,
     "input": [],
     "language": "python",
     "metadata": {},
     "outputs": []
    }
   ],
   "metadata": {}
  }
 ]
}